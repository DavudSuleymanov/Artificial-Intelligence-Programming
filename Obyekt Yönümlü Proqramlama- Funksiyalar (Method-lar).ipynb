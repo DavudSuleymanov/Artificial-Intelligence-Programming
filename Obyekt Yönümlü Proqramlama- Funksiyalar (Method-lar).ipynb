{
 "cells": [
  {
   "cell_type": "markdown",
   "id": "788b6745",
   "metadata": {},
   "source": [
    "# Obyekt Yönümlü Proqramlama - Funksiyalar (Method-lar)\n",
    "\n",
    "Bu mövzuda biz bir **class** daxilində necə method-lar təyin edəcəyimizi öyrənməyə çalışacağıq. Bunun üçün əvvəlcə proqramist class-ını təyin edək."
   ]
  },
  {
   "cell_type": "code",
   "execution_count": 1,
   "id": "08a358dd",
   "metadata": {},
   "outputs": [],
   "source": [
    "class Proqramist():\n",
    "    \n",
    "    def __init__(self,ad,soyad,no,maas,diller):\n",
    "        \n",
    "        self.ad=ad\n",
    "        self.soyad=soyad    # Proqramist obyektlərinin xüsusiyyətləri\n",
    "        self.no=no\n",
    "        self.maas=maas\n",
    "        self.diller=diller "
   ]
  },
  {
   "cell_type": "code",
   "execution_count": 2,
   "id": "1f85384c",
   "metadata": {},
   "outputs": [],
   "source": [
    "#proqramist1 obyekti\n",
    "proqramist1= Proqramist(\"Davud\",\"Suleymanov\",17014908,1000,[\"Matlab\",\"Python\",\"Java\"])\n",
    "\n",
    "#proqramist1-in bildiyi dilleri List data tipində saxladıq"
   ]
  },
  {
   "cell_type": "code",
   "execution_count": 3,
   "id": "6ae54729",
   "metadata": {},
   "outputs": [
    {
     "data": {
      "text/plain": [
       "['Matlab', 'Python', 'Java']"
      ]
     },
     "execution_count": 3,
     "metadata": {},
     "output_type": "execute_result"
    }
   ],
   "source": [
    "proqramist1.diller"
   ]
  },
  {
   "cell_type": "code",
   "execution_count": 8,
   "id": "52617074",
   "metadata": {},
   "outputs": [],
   "source": [
    "#proqramist2 obyekti\n",
    "proqramist2= Proqramist (\"Elçin\",\"Suleymanlı\",18014907,500,[\"C\",\"C#\",\"Assembly\"])"
   ]
  },
  {
   "cell_type": "code",
   "execution_count": 9,
   "id": "642ccc10",
   "metadata": {},
   "outputs": [
    {
     "data": {
      "text/plain": [
       "['C', 'C#', 'Assembly']"
      ]
     },
     "execution_count": 9,
     "metadata": {},
     "output_type": "execute_result"
    }
   ],
   "source": [
    "proqramist2.diller"
   ]
  },
  {
   "cell_type": "markdown",
   "id": "6e14787f",
   "metadata": {},
   "source": [
    "Bunları necə edildiyini əvvəlki mövzudan bilirik. Beləliklə, bu class-da method-larımızı necə müəyyən edə bilərik? Biz **__init__** method-unu təyin etdiyimiz kimi, bir class-a istədiyimiz qədər method təyin edə bilərik. Məsələn, proqramist  class-ına bütün məlumatları çap edəcək bir method(funksiya) təyin edək."
   ]
  },
  {
   "cell_type": "code",
   "execution_count": 18,
   "id": "17761e82",
   "metadata": {},
   "outputs": [],
   "source": [
    "class Proqramist():\n",
    "    \n",
    "    def __init__(self,ad,soyad,no,maas,diller):\n",
    "        \n",
    "        self.ad=ad\n",
    "        self.soyad=soyad\n",
    "        self.no=no\n",
    "        self.maas=maas\n",
    "        self.diller=diller \n",
    "        \n",
    "    def informasiya_goster(self):\n",
    "        print(\"\"\"\n",
    "              Proqramist informasiyaları\n",
    "              \n",
    "              Ad:{}\n",
    "              Soyad:{}\n",
    "              No:{}\n",
    "              Maas:{}\n",
    "              Diller:{}\n",
    "              \"\"\".format(self.ad,self.soyad,self.no,self.maas,self.diller))"
   ]
  },
  {
   "cell_type": "code",
   "execution_count": 19,
   "id": "2379dfbd",
   "metadata": {},
   "outputs": [],
   "source": [
    "proqramist1 = Proqramist(\"Davud\",\"Suleymanov\",17014908,1000,[\"Matlab\",\"Python\",\"Java\"])"
   ]
  },
  {
   "cell_type": "code",
   "execution_count": 20,
   "id": "eb031b04",
   "metadata": {},
   "outputs": [
    {
     "name": "stdout",
     "output_type": "stream",
     "text": [
      "\n",
      "              Proqramist informasiyaları\n",
      "              \n",
      "              Ad:Davud\n",
      "              Soyad:Suleymanov\n",
      "              No:17014908\n",
      "              Maas:1000\n",
      "              Diller:['Matlab', 'Python', 'Java']\n",
      "              \n"
     ]
    }
   ],
   "source": [
    "proqramist1.informasiya_goster() "
   ]
  },
  {
   "cell_type": "markdown",
   "id": "2440b776",
   "metadata": {},
   "source": [
    "Burada **informasiya_goster** adlı methodu təyin etməklə biz hər bir obyektin xassələrini ekranda səliqəli şəkildə çap etdik. Method=larımızı yazarkən diqqət etməli olduğumuz məqam odur ki, hər bir methodun ilk parametri **self** olmalıdır. Bundan əlavə, biz **self** istinadla obyektlərimizin xassələrinə daxil olmalıyıq. İstəyirsinizsə, bu class-a daha 2 mehtod daha yazaq."
   ]
  },
  {
   "cell_type": "code",
   "execution_count": 21,
   "id": "e1cba5d3",
   "metadata": {},
   "outputs": [],
   "source": [
    "class Proqramist():\n",
    "    \n",
    "    def __init__(self,ad,soyad,no,maas,diller):\n",
    "        \n",
    "        self.ad=ad\n",
    "        self.soyad=soyad\n",
    "        self.no=no\n",
    "        self.maas=maas\n",
    "        self.diller=diller \n",
    "        \n",
    "    def informasiya_goster(self):\n",
    "        print(\"\"\"\n",
    "              Proqramist informasiyaları\n",
    "              \n",
    "              Ad:{}\n",
    "              Soyad:{}\n",
    "              No:{}\n",
    "              Maas:{}\n",
    "              Diller:{}\n",
    "              \"\"\".format(self.ad,self.soyad,self.no,self.maas,self.diller))\n",
    "    \n",
    "    def dil_elave_et(self,yeni_dil):\n",
    "        \n",
    "        print(\"Dil elave olundu\")\n",
    "        \n",
    "        self.diller.append(yeni_dil)\n",
    "    \n",
    "    def maas_yukselt(self,zam_miqdari):\n",
    "        \n",
    "        print(\"Maaş yükseltildi\")\n",
    "        \n",
    "        self.maas+=zam_miqdari\n",
    "    "
   ]
  },
  {
   "cell_type": "code",
   "execution_count": 24,
   "id": "81dc1cba",
   "metadata": {},
   "outputs": [],
   "source": [
    " proqramist1 = Proqramist(\"Davud\",\"Suleymanov\",17014908,1000,[\"Matlab\",\"Python\",\"Java\"])"
   ]
  },
  {
   "cell_type": "code",
   "execution_count": 26,
   "id": "d8f91d13",
   "metadata": {},
   "outputs": [
    {
     "name": "stdout",
     "output_type": "stream",
     "text": [
      "\n",
      "              Proqramist informasiyaları\n",
      "              \n",
      "              Ad:Davud\n",
      "              Soyad:Suleymanov\n",
      "              No:17014908\n",
      "              Maas:1000\n",
      "              Diller:['Matlab', 'Python', 'Java']\n",
      "              \n"
     ]
    }
   ],
   "source": [
    "proqramist1.informasiya_goster()"
   ]
  },
  {
   "cell_type": "code",
   "execution_count": 27,
   "id": "eaf99f92",
   "metadata": {},
   "outputs": [
    {
     "name": "stdout",
     "output_type": "stream",
     "text": [
      "Maaş yükseltildi\n"
     ]
    }
   ],
   "source": [
    "proqramist1.maas_yukselt(500) #Yazdığımız funskiyanı istifadə edərək proqramist1 in maaşsını 500 manat artırdıq"
   ]
  },
  {
   "cell_type": "code",
   "execution_count": 28,
   "id": "a9389faa",
   "metadata": {},
   "outputs": [
    {
     "name": "stdout",
     "output_type": "stream",
     "text": [
      "Dil elave olundu\n"
     ]
    }
   ],
   "source": [
    "proqramist1.dil_elave_et(\"Assembly\") #Yazdığımız funskiyanı istifadə edərək proqramist1-in bildiyi dillərə Assembly-ini əlavə etdik"
   ]
  },
  {
   "cell_type": "code",
   "execution_count": 29,
   "id": "f76c3ec7",
   "metadata": {},
   "outputs": [
    {
     "name": "stdout",
     "output_type": "stream",
     "text": [
      "\n",
      "              Proqramist informasiyaları\n",
      "              \n",
      "              Ad:Davud\n",
      "              Soyad:Suleymanov\n",
      "              No:17014908\n",
      "              Maas:1500\n",
      "              Diller:['Matlab', 'Python', 'Java', 'Assembly']\n",
      "              \n"
     ]
    }
   ],
   "source": [
    "proqramist1.informasiya_goster() #Yenidən informasiyaları yoxlayaq"
   ]
  },
  {
   "cell_type": "markdown",
   "id": "80e96536",
   "metadata": {},
   "source": [
    "Beləliklə Proqramist class-ı üçün yazmış olduğumuz 2 funksiyanı istifadə etmiş olduq."
   ]
  }
 ],
 "metadata": {
  "kernelspec": {
   "display_name": "Python 3 (ipykernel)",
   "language": "python",
   "name": "python3"
  },
  "language_info": {
   "codemirror_mode": {
    "name": "ipython",
    "version": 3
   },
   "file_extension": ".py",
   "mimetype": "text/x-python",
   "name": "python",
   "nbconvert_exporter": "python",
   "pygments_lexer": "ipython3",
   "version": "3.8.10"
  }
 },
 "nbformat": 4,
 "nbformat_minor": 5
}
