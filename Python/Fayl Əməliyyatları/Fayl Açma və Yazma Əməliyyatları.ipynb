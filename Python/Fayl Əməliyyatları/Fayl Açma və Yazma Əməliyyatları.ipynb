{
 "cells": [
  {
   "cell_type": "markdown",
   "id": "b1e644aa",
   "metadata": {},
   "source": [
    "# Fayl Açma və Yazma Əməliyyatları"
   ]
  },
  {
   "cell_type": "markdown",
   "id": "02152579",
   "metadata": {},
   "source": [
    "Bu mövzu ilə birlikdə fayllar üzərində müxtəlif əməliyyatlar etməyi öyrənməyə başlayacayıq."
   ]
  },
  {
   "cell_type": "markdown",
   "id": "2adcb315",
   "metadata": {},
   "source": [
    "#### Fayl Açmaq\n",
    "Biz faylı açmaq üçün open() funksiyasından istifadə edirik. Onun strukturu aşağıdakı kimidir;\n",
    "\n",
    "                 open(fayl_adi,fayl_açarı)\n",
    "                 \n",
    "Biz **fayl_adı** qismində fayla istədiyimiz adı verə bilərik. Fayl_açarı qismində isə fayl üzərində hans əməliyyatı edəcəyimizi müəyyən edirik. Bir çox fayl açarı vardır və biz bunları tədricən sıra ilə öyrənəcəyik. \n",
    "\n",
    "\n",
    "İlk açarımız \n",
    "\"w\" fayl açarı\n",
    "Fayllarımızı açmaq və yazmaq üçün \"write\" mənasını verən \"w\"-dan istifadə edirik. \"w\" açarı yaratmaq istədiyimiz qovluqda(folder) belə fayl yoxdursa faylı yaradır, belə fayl varsa faylı silib yenidən yaradır. Yəni açmaq istədiyimiz fayl artıq mövcuddursa və fayl doludursa, \"w\" açarı fayldakı məlumatları silib yenidən yaradır. Buna görə \"w\" açarından istifadə edərkən diqqətli olmaq lazımdır. "
   ]
  },
  {
   "cell_type": "code",
   "execution_count": 1,
   "id": "f5713185",
   "metadata": {},
   "outputs": [
    {
     "data": {
      "text/plain": [
       "<_io.TextIOWrapper name='informasiyalar.txt' mode='w' encoding='cp1254'>"
      ]
     },
     "execution_count": 1,
     "metadata": {},
     "output_type": "execute_result"
    }
   ],
   "source": [
    "open(\"informasiyalar.txt\",\"w\") # .py sonluqlu python faylınız hansı qovluqda(folder) yaddaşdadırsa .txt faylı da orada açılacaqdır"
   ]
  },
  {
   "cell_type": "code",
   "execution_count": 2,
   "id": "cca1db59",
   "metadata": {},
   "outputs": [],
   "source": [
    "file= open(\"informasiyalar.txt\",\"w\") # Açmış olduğumuz .txt dokumentini `file` adlı dəyişkənə bərabərləşdiririk"
   ]
  },
  {
   "cell_type": "markdown",
   "id": "ae8685c6",
   "metadata": {},
   "source": [
    "#### Faylların Bağlanması¶\n",
    "Biz fayl üzərində əməliyyat apararkən sistem resurslarından lazımsız istifadə edilməməsi üçün həmin faylı bağlamaq vacibdir. Çünki proqramımız bitsə belə, faylın bağlanacağına zəmanət yoxdur. Ona görə də işimizi bitirdikdən sonra faylı bağlamalıyıq."
   ]
  },
  {
   "cell_type": "code",
   "execution_count": 3,
   "id": "a12e588c",
   "metadata": {},
   "outputs": [],
   "source": [
    "file.close() # Faylı bağlamaq "
   ]
  },
  {
   "cell_type": "markdown",
   "id": "1003504f",
   "metadata": {},
   "source": [
    "Əgər biz daxil olduğumuz qovluqda deyil, başqa qovluqda fayl açmaq istəyiriksə, qovluqun yolunu göstərməliyik. "
   ]
  },
  {
   "cell_type": "code",
   "execution_count": 6,
   "id": "66c34714",
   "metadata": {},
   "outputs": [],
   "source": [
    "file = open(\"C:/New_Folder/Yeni Informasiyalar.txt\",\"w\") # C diskimin daxilində olan New_Folder qovluqumun daxilində Yeni İnformasiyalar adli bir .txt faylı əmələ gətirdik"
   ]
  },
  {
   "cell_type": "code",
   "execution_count": 7,
   "id": "018029cb",
   "metadata": {},
   "outputs": [],
   "source": [
    "file.close() # Faylımızla işimiz bittikdən sonra bağlamağı unutmayaq"
   ]
  },
  {
   "cell_type": "markdown",
   "id": "c95127d7",
   "metadata": {},
   "source": [
    "**\"w\" Açarı ilə Fayllara Yazmaq**\n",
    "\n",
    "Əvvəlcə faylı \"w\" açarı ilə açırıq."
   ]
  },
  {
   "cell_type": "code",
   "execution_count": 8,
   "id": "c57bee8b",
   "metadata": {},
   "outputs": [],
   "source": [
    "file = open(\"C:/New_Folder/Yeni Informasiyalar.txt\",\"w\") "
   ]
  },
  {
   "cell_type": "code",
   "execution_count": 10,
   "id": "a94b37c6",
   "metadata": {},
   "outputs": [
    {
     "data": {
      "text/plain": [
       "16"
      ]
     },
     "execution_count": 10,
     "metadata": {},
     "output_type": "execute_result"
    }
   ],
   "source": [
    "file.write(\"Davud Suleymanov\") # Faylımıza write funksiyası ilə yazma əməliyyatını tamamlayırıq. 16 bayt, yəni 16 simvol yazmış olduq."
   ]
  },
  {
   "cell_type": "code",
   "execution_count": 13,
   "id": "bd103725",
   "metadata": {},
   "outputs": [],
   "source": [
    "file.close()"
   ]
  },
  {
   "cell_type": "markdown",
   "id": "9617faad",
   "metadata": {},
   "source": [
    "Gördüyümüz kimi write funksiyası ilə faylımıza hər şeyi yaza bilərik. Lakin \"w\" açarı hər dəfə faylı yenidən yaratdığından faylı yenidən açdığımız zaman məlumat itəcək."
   ]
  },
  {
   "cell_type": "markdown",
   "id": "ec364a81",
   "metadata": {},
   "source": [
    "**\"a\" Açarı ilə Fayllara Yazmaq**"
   ]
  },
  {
   "cell_type": "markdown",
   "id": "d902fdde",
   "metadata": {},
   "source": [
    "Biz faylı \"a\" açarı ilə açdığımız zaman, bu, \"append\" sözünün qısaldılmasıdır, əgər fayl mövcud deyilsə, yaradılır. Əgər belə bir fayl varsa, fayl yenidən yaradılmır və fayl kursoru faylın sonuna keçir və bizə fayla əlavə etmək imkanı verir."
   ]
  },
  {
   "cell_type": "code",
   "execution_count": 14,
   "id": "af0ecbdb",
   "metadata": {},
   "outputs": [],
   "source": [
    "file = open(\"C:/New_Folder/Yeni Informasiyalar.txt\",\"a\") "
   ]
  },
  {
   "cell_type": "code",
   "execution_count": 15,
   "id": "93882506",
   "metadata": {},
   "outputs": [
    {
     "data": {
      "text/plain": [
       "16"
      ]
     },
     "execution_count": 15,
     "metadata": {},
     "output_type": "execute_result"
    }
   ],
   "source": [
    "file.write(\"Elçin Suleymanlı\") # Faylın sonuna yazmış olduq "
   ]
  },
  {
   "cell_type": "code",
   "execution_count": 16,
   "id": "18ce24f3",
   "metadata": {},
   "outputs": [],
   "source": [
    "file.close()"
   ]
  },
  {
   "cell_type": "markdown",
   "id": "f6f0b5c1",
   "metadata": {},
   "source": [
    "Ancaq buradakı fayllarda adları bir-birinin altına yazmaq istəyiriksə, \"\\n\" simvolundan istifadə etməliyik."
   ]
  },
  {
   "cell_type": "code",
   "execution_count": 33,
   "id": "66c98264",
   "metadata": {},
   "outputs": [],
   "source": [
    "file = open(\"C:/New_Folder/Yeni Informasiyalar.txt\",\"a\") "
   ]
  },
  {
   "cell_type": "code",
   "execution_count": 34,
   "id": "13f9d554",
   "metadata": {},
   "outputs": [
    {
     "data": {
      "text/plain": [
       "14"
      ]
     },
     "execution_count": 34,
     "metadata": {},
     "output_type": "execute_result"
    }
   ],
   "source": [
    "file.write(\"\\nAyhan Qarayev\")"
   ]
  },
  {
   "cell_type": "code",
   "execution_count": 35,
   "id": "7430b403",
   "metadata": {},
   "outputs": [
    {
     "data": {
      "text/plain": [
       "17"
      ]
     },
     "execution_count": 35,
     "metadata": {},
     "output_type": "execute_result"
    }
   ],
   "source": [
    "file.write(\"\\nVaqif Kalantarli\")"
   ]
  },
  {
   "cell_type": "code",
   "execution_count": 39,
   "id": "5b0a3e58",
   "metadata": {},
   "outputs": [],
   "source": [
    "file.close()"
   ]
  }
 ],
 "metadata": {
  "kernelspec": {
   "display_name": "Python 3 (ipykernel)",
   "language": "python",
   "name": "python3"
  },
  "language_info": {
   "codemirror_mode": {
    "name": "ipython",
    "version": 3
   },
   "file_extension": ".py",
   "mimetype": "text/x-python",
   "name": "python",
   "nbconvert_exporter": "python",
   "pygments_lexer": "ipython3",
   "version": "3.8.10"
  }
 },
 "nbformat": 4,
 "nbformat_minor": 5
}
