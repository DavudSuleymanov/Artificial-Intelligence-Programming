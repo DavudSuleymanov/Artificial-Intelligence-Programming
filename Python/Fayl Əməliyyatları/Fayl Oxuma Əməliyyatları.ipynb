{
 "cells": [
  {
   "cell_type": "markdown",
   "id": "71afee43",
   "metadata": {},
   "source": [
    "# Fayl Oxuma Əməliyyatları\n",
    "\n",
    "Bu dərsdə biz fayl oxuma əməliyyatlarını görməyə çalışacağıq."
   ]
  },
  {
   "cell_type": "markdown",
   "id": "546feb8a",
   "metadata": {},
   "source": [
    "Faylları oxumaq və məlumatları əldə etmək üçün \"r\" rejimi ilə açmalıyıq. \"r\" açarı ilə açdığımız fayl tapılmazsa, \"FileNotFoundError\" xətası qaytarılacaq. İndi isə daxil olduğumuz qovluqda “information.txt” faylını açaq."
   ]
  },
  {
   "cell_type": "code",
   "execution_count": 1,
   "id": "d310249e",
   "metadata": {},
   "outputs": [],
   "source": [
    "file = open(\"information.txt\",\"r\")"
   ]
  },
  {
   "cell_type": "code",
   "execution_count": 3,
   "id": "a42d818d",
   "metadata": {},
   "outputs": [],
   "source": [
    "file.close()"
   ]
  },
  {
   "cell_type": "code",
   "execution_count": 4,
   "id": "c32c15a8",
   "metadata": {},
   "outputs": [
    {
     "ename": "FileNotFoundError",
     "evalue": "[Errno 2] No such file or directory: 'information2.txt'",
     "output_type": "error",
     "traceback": [
      "\u001b[1;31m---------------------------------------------------------------------------\u001b[0m",
      "\u001b[1;31mFileNotFoundError\u001b[0m                         Traceback (most recent call last)",
      "Cell \u001b[1;32mIn [4], line 1\u001b[0m\n\u001b[1;32m----> 1\u001b[0m file \u001b[38;5;241m=\u001b[39m \u001b[38;5;28;43mopen\u001b[39;49m\u001b[43m(\u001b[49m\u001b[38;5;124;43m\"\u001b[39;49m\u001b[38;5;124;43minformation2.txt\u001b[39;49m\u001b[38;5;124;43m\"\u001b[39;49m\u001b[43m,\u001b[49m\u001b[38;5;124;43m\"\u001b[39;49m\u001b[38;5;124;43mr\u001b[39;49m\u001b[38;5;124;43m\"\u001b[39;49m\u001b[43m)\u001b[49m\n",
      "\u001b[1;31mFileNotFoundError\u001b[0m: [Errno 2] No such file or directory: 'information2.txt'"
     ]
    }
   ],
   "source": [
    "file = open(\"information2.txt\",\"r\") # Belə bir fayl yoxdur. Buna görə FileNotFoundError qaytarıldı."
   ]
  },
  {
   "cell_type": "markdown",
   "id": "a7d42b6b",
   "metadata": {},
   "source": [
    "Fayl əməliyyatlarını daha təhlükəsiz kodlaya bilmək üçün try,except bloklarından istifadə edə bilərik. "
   ]
  },
  {
   "cell_type": "code",
   "execution_count": 6,
   "id": "aaf55362",
   "metadata": {},
   "outputs": [
    {
     "name": "stdout",
     "output_type": "stream",
     "text": [
      "Belə bir fayl mövcud deyildir..\n"
     ]
    }
   ],
   "source": [
    "try:\n",
    "    file= open(\"information2.txt\",\"r\")\n",
    "except FileNotFoundError:\n",
    "    print(\"Belə bir fayl mövcud deyildir..\")"
   ]
  },
  {
   "cell_type": "markdown",
   "id": "98b61992",
   "metadata": {},
   "source": [
    "Bəs biz fayldan məlumatı necə oxuya bilərik? Bunun üçün Python-da müxtəlif üsullar var. İstəyirsinizsə, gəlin bu üsulları bir-bir görməyə çalışaq."
   ]
  },
  {
   "cell_type": "markdown",
   "id": "dbdb6805",
   "metadata": {},
   "source": [
    "### For loop ilə oxumaq\n",
    "\n",
    "Belə bir istifadə faylımızdakı hər sətri bir-bir oxuyacaq."
   ]
  },
  {
   "cell_type": "code",
   "execution_count": 10,
   "id": "44c0c248",
   "metadata": {},
   "outputs": [
    {
     "name": "stdout",
     "output_type": "stream",
     "text": [
      "Davud Suleymanov\n",
      "\n",
      "Elçin Suleymanlı\n",
      "\n",
      "Ayhan Garayev \n",
      "\n",
      "Vaqif Kalantarli \n"
     ]
    }
   ],
   "source": [
    "file = open(\"information.txt\",\"r\",encoding =\"utf-8\") # encodig= \"utf-8\" bu kod ilə faylların oxuma zamanı Azərbaycan dilində hərf gördüyü zaman (ə,ğ.. və.s hərflər kimi ) problem çıxmasın deyə istifadə olunur \n",
    "\n",
    "for i in file: # for döngüsünü istifadə edərək .txt faylının hər bir sətri üzərində gəzinip, çap edirik. \n",
    "    print(i)    # Hər bir sətri çap edirik. \n",
    "file.close ()   # Proses bittikdən sonra faylı bağlayırıq. "
   ]
  },
  {
   "cell_type": "markdown",
   "id": "52d0a9ea",
   "metadata": {},
   "source": [
    "Burada hər bir sətirimiz boşluqla yazılıb. Bunun səbəbi hər sətrin sonundakı \"\\n\" simvolu və çap funksiyası növbəti sətirə keçmək üçün boşluq buraxmasıdır. Bunun qarşısını almaq üçün biz özümüz end parametrinə dəyər təyin edə bilərik, o, standart olaraq \"\\n\" simvolunu alır."
   ]
  },
  {
   "cell_type": "code",
   "execution_count": 11,
   "id": "6df0fb29",
   "metadata": {},
   "outputs": [
    {
     "name": "stdout",
     "output_type": "stream",
     "text": [
      "Davud Suleymanov\n",
      "Elçin Suleymanlı\n",
      "Ayhan Garayev \n",
      "Vaqif Kalantarli "
     ]
    }
   ],
   "source": [
    "file = open(\"information.txt\",\"r\",encoding =\"utf-8\") # encodig= \"utf-8\" bu kod ilə faylların oxuma zamanı Azərbaycan dilində hərf gördüyü zaman (ə,ğ.. və.s hərflər kimi ) problem çıxmasın deyə istifadə olunur \n",
    "\n",
    "for i in file: # for döngüsünü istifadə edərək .txt faylının hər bir sətri üzərində gəzinip, çap edirik. \n",
    "    print(i,end = \"\")    # Hər bir sətri çap edirik. \n",
    "file.close ()   # Proses bittikdən sonra faylı bağlayırıq. "
   ]
  },
  {
   "cell_type": "markdown",
   "id": "0d156bc0",
   "metadata": {},
   "source": [
    "### read() funksiyası\n",
    "\n",
    "Əgər biz ona heç bir dəyər verməsək, read() funksiyası bütün faylımızı oxuyacaq."
   ]
  },
  {
   "cell_type": "code",
   "execution_count": 17,
   "id": "58439d1f",
   "metadata": {},
   "outputs": [
    {
     "name": "stdout",
     "output_type": "stream",
     "text": [
      "Faylın daxilində yazılanlar\n",
      "Davud Suleymanov\n",
      "Elçin Suleymanlı\n",
      "Ayhan Garayev \n",
      "Vaqif Kalantarli \n"
     ]
    }
   ],
   "source": [
    "file = open(\"information.txt\",\"r\",encoding =\"utf-8\") # encodig= \"utf-8\" bu kod ilə faylların oxuma zamanı Azərbaycan dilində hərf gördüyü zaman (ə,ğ.. və.s hərflər kimi ) problem çıxmasın deyə istifadə olunur \n",
    "\n",
    "oxu_fayl= file.read()\n",
    "\n",
    "print(\"Faylın daxilində yazılanlar\\n\",oxu_fayl,sep=\"\")"
   ]
  },
  {
   "cell_type": "markdown",
   "id": "e7000c4a",
   "metadata": {},
   "source": [
    "Read() funksiyası olan faylı oxuduqda, fayl kursorumuz faylın sonuna keçir və read() funksiyası indi ikinci oxunuşda boş sətir qaytarır."
   ]
  },
  {
   "cell_type": "code",
   "execution_count": 18,
   "id": "02568d79",
   "metadata": {},
   "outputs": [
    {
     "name": "stdout",
     "output_type": "stream",
     "text": [
      "1. Dəfə oxuyuruq\n",
      "Davud Suleymanov\n",
      "Elçin Suleymanlı\n",
      "Ayhan Garayev \n",
      "Vaqif Kalantarli \n",
      "2. Dəfə oxuyuruq\n",
      "\n"
     ]
    }
   ],
   "source": [
    "file = open(\"information.txt\",\"r\",encoding =\"utf-8\") # encodig= \"utf-8\" bu kod ilə faylların oxuma zamanı Azərbaycan dilində hərf gördüyü zaman (ə,ğ.. və.s hərflər kimi ) problem çıxmasın deyə istifadə olunur \n",
    "\n",
    "oxu_fayl1= file.read()\n",
    "\n",
    "print(\"1. Dəfə oxuyuruq\\n\",oxu_fayl1,sep=\"\")\n",
    "\n",
    "oxu_fayl2=file.read()\n",
    "\n",
    "print(\"2. Dəfə oxuyuruq\\n\",oxu_fayl2,sep=\"\")\n",
    "\n",
    "file.close()"
   ]
  },
  {
   "cell_type": "markdown",
   "id": "16321321",
   "metadata": {},
   "source": [
    "### readline() funksiyası\n",
    "\n",
    "Readline() funksiyası hər dəfə fayl çağırılanda onun yalnız bir sətrini oxuyur. Fayl kursorumuz hər dəfə bir sətir keçir."
   ]
  },
  {
   "cell_type": "code",
   "execution_count": 19,
   "id": "62b8de05",
   "metadata": {},
   "outputs": [],
   "source": [
    "file = open(\"information.txt\",\"r\",encoding =\"utf-8\")"
   ]
  },
  {
   "cell_type": "code",
   "execution_count": 20,
   "id": "c8ed09fb",
   "metadata": {},
   "outputs": [
    {
     "name": "stdout",
     "output_type": "stream",
     "text": [
      "Davud Suleymanov\n",
      "\n"
     ]
    }
   ],
   "source": [
    "print(file.readline())"
   ]
  },
  {
   "cell_type": "code",
   "execution_count": 21,
   "id": "67d0ddb3",
   "metadata": {},
   "outputs": [
    {
     "name": "stdout",
     "output_type": "stream",
     "text": [
      "Elçin Suleymanlı\n",
      "\n"
     ]
    }
   ],
   "source": [
    "print(file.readline())"
   ]
  },
  {
   "cell_type": "code",
   "execution_count": 22,
   "id": "1e5cb8d8",
   "metadata": {},
   "outputs": [
    {
     "name": "stdout",
     "output_type": "stream",
     "text": [
      "Ayhan Garayev \n",
      "\n"
     ]
    }
   ],
   "source": [
    "print(file.readline())"
   ]
  },
  {
   "cell_type": "code",
   "execution_count": 23,
   "id": "540ec25a",
   "metadata": {},
   "outputs": [
    {
     "name": "stdout",
     "output_type": "stream",
     "text": [
      "Vaqif Kalantarli \n"
     ]
    }
   ],
   "source": [
    "print(file.readline())"
   ]
  },
  {
   "cell_type": "code",
   "execution_count": 24,
   "id": "56c917bd",
   "metadata": {},
   "outputs": [
    {
     "name": "stdout",
     "output_type": "stream",
     "text": [
      "\n"
     ]
    }
   ],
   "source": [
    "print(file.readline()) # Oxumağa heç nə qalmadıqda, readline funksiyası boş sətir qaytarır."
   ]
  },
  {
   "cell_type": "code",
   "execution_count": 26,
   "id": "796a9d89",
   "metadata": {},
   "outputs": [],
   "source": [
    "file.close()"
   ]
  },
  {
   "cell_type": "markdown",
   "id": "97318f20",
   "metadata": {},
   "source": [
    "### readlines() funksiyası\n",
    "\n",
    "Readlines() funksiyası faylın bütün sətirlərini bir list data tipi olaraq qaytarır. "
   ]
  },
  {
   "cell_type": "code",
   "execution_count": 28,
   "id": "8569fe1f",
   "metadata": {},
   "outputs": [],
   "source": [
    "file = open(\"information.txt\",\"r\",encoding =\"utf-8\") "
   ]
  },
  {
   "cell_type": "code",
   "execution_count": 29,
   "id": "b6682fce",
   "metadata": {},
   "outputs": [
    {
     "data": {
      "text/plain": [
       "['Davud Suleymanov\\n',\n",
       " 'Elçin Suleymanlı\\n',\n",
       " 'Ayhan Garayev \\n',\n",
       " 'Vaqif Kalantarli ']"
      ]
     },
     "execution_count": 29,
     "metadata": {},
     "output_type": "execute_result"
    }
   ],
   "source": [
    "file.readlines()"
   ]
  },
  {
   "cell_type": "code",
   "execution_count": 30,
   "id": "b4408dd8",
   "metadata": {},
   "outputs": [],
   "source": [
    "file.close()"
   ]
  }
 ],
 "metadata": {
  "kernelspec": {
   "display_name": "Python 3 (ipykernel)",
   "language": "python",
   "name": "python3"
  },
  "language_info": {
   "codemirror_mode": {
    "name": "ipython",
    "version": 3
   },
   "file_extension": ".py",
   "mimetype": "text/x-python",
   "name": "python",
   "nbconvert_exporter": "python",
   "pygments_lexer": "ipython3",
   "version": "3.8.10"
  }
 },
 "nbformat": 4,
 "nbformat_minor": 5
}
