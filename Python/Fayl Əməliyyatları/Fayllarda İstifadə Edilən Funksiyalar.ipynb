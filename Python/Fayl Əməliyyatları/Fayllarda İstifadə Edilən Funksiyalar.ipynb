{
 "cells": [
  {
   "cell_type": "markdown",
   "id": "5e7c02a9",
   "metadata": {},
   "source": [
    "# Fayllarda İstifadə Edilən Funksiyalar\n",
    "\n",
    "Bu dərsdə fayl oxuma əməliyyatlarına davam edəcəyik və fayllarda istifadə edilən method-ları öyrənməyə çalışacayıq. "
   ]
  },
  {
   "cell_type": "markdown",
   "id": "0a7e8b95",
   "metadata": {},
   "source": [
    "### Faylları Avtomatik Bağlama\n",
    "\n",
    "Biz bilirik ki, fayllarla işimiz bitdikdən sonra faylımızı bağlamalıyıq. Lakin proqramlaşdırmanın təbiətinə görə biz çox vaxt faylları bağlamağı unuduruq. Bunun üçün Python-da fayllarla işimiz bitdikdə avtomatik bağlanma funksiyası var. Bundan sonra bu Python-da fayl əməliyyatlarımız üçün bu bloku istifadə edəcəyik.\n",
    "\n",
    "                        with open(fayl_adı,açar) as file: \n",
    "                            Fayl Əməliyyatları \n",
    "                            \n",
    "Daha yaxşı anlamaq üçün nümunəyə baxaq. "
   ]
  },
  {
   "cell_type": "code",
   "execution_count": 1,
   "id": "e13f69d6",
   "metadata": {},
   "outputs": [
    {
     "name": "stdout",
     "output_type": "stream",
     "text": [
      "Davud Suleymanov\n",
      "\n",
      "Elçin Suleymanlı\n",
      "\n",
      "Ayhan Garayev \n",
      "\n",
      "Vaqif Kalantarli \n"
     ]
    }
   ],
   "source": [
    "with open(\"information.txt\",\"r\",encoding = \"utf-8\") as file:\n",
    "    for i in file:\n",
    "        print(i)"
   ]
  },
  {
   "cell_type": "markdown",
   "id": "cabd58ad",
   "metadata": {},
   "source": [
    "Bu blokda fayl əməliyyatlarını yerinə yetirsək, işimiz bitdikdən sonra faylımız avtomatik bağlanacaq."
   ]
  },
  {
   "cell_type": "markdown",
   "id": "9ac3c367",
   "metadata": {},
   "source": [
    "### Fayllarda İrəli Geri Getmək \n",
    "\n",
    "Bilirsiniz,biz faylları oxuyarkən biz ancaq faylın əvvəlindən başlaya bilirdik və oxuma prosesinin sonunda fayl kursorumuz faylın sonuna gedirdi. Lakin biz fayl kursorunu faylın istənilən hissəsinə aparmaq istəyirik. Bunun üçün Python-da **seek()** funksiyasından istifadə edəcəyik. Ancaq bundan əvvəl fayl kursorunun hansı baytda olduğunu bildirən **tell()** funksiyasına nəzər salaq."
   ]
  },
  {
   "cell_type": "code",
   "execution_count": 2,
   "id": "56734fdf",
   "metadata": {},
   "outputs": [
    {
     "name": "stdout",
     "output_type": "stream",
     "text": [
      "0\n"
     ]
    }
   ],
   "source": [
    "with open(\"information.txt\",\"r\",encoding = \"utf-8\") as file:\n",
    "    print(file.tell())"
   ]
  },
  {
   "cell_type": "markdown",
   "id": "e83e5bbd",
   "metadata": {},
   "source": [
    "**tell()** funksiyası deyir ki, biz faylın ən başındayıq (0-cı baytda), çünki biz hazırda heç nə etmirik. Beləliklə, fayl kursorunu faylın 20-ci baytına köçürmək üçün nə edək? Bunun üçün **seek()** funksiyasından istifadə edəcəyik."
   ]
  },
  {
   "cell_type": "code",
   "execution_count": 3,
   "id": "f9f0e05d",
   "metadata": {},
   "outputs": [
    {
     "name": "stdout",
     "output_type": "stream",
     "text": [
      "20\n"
     ]
    }
   ],
   "source": [
    "with open(\"information.txt\",\"r\",encoding = \"utf-8\") as file:\n",
    "    file.seek(20) # 20. byte apardıq kursoru \n",
    "    print(file.tell())"
   ]
  },
  {
   "cell_type": "markdown",
   "id": "32d72be3",
   "metadata": {},
   "source": [
    "Bəs biz faylın müəyyən byte-ına necə keçək və yalnız müəyyən sayda simvol oxuyaq? Əgər read() funksiyasına ədəd dəyəri versək, o, yalnız həmin rəqəmin dəyəri qədər sahəni oxuyacaq. İndi baxaq."
   ]
  },
  {
   "cell_type": "code",
   "execution_count": 4,
   "id": "8cd3a70b",
   "metadata": {},
   "outputs": [
    {
     "name": "stdout",
     "output_type": "stream",
     "text": [
      " Suleymano\n",
      "15\n"
     ]
    }
   ],
   "source": [
    "with open(\"information.txt\",\"r\",encoding = \"utf-8\") as file: \n",
    "    file.seek(5) # 5. byte kursoru apardıq. \n",
    "    fayl_oxu = file.read(10) # kursordan sonra 10 byte oxuyacayıq \n",
    "    print(fayl_oxu)\n",
    "    print(file.tell())"
   ]
  },
  {
   "cell_type": "code",
   "execution_count": 8,
   "id": "075b6933",
   "metadata": {},
   "outputs": [
    {
     "name": "stdout",
     "output_type": "stream",
     "text": [
      " Suleymano\n",
      "Davud\n"
     ]
    }
   ],
   "source": [
    "with open(\"information.txt\",\"r\",encoding = \"utf-8\") as file: \n",
    "    \n",
    "    file.seek(5) # 5. byte kursoru apardıq. \n",
    "    fayl_oxu1 = file.read(10) # kursordan sonra 10 byte oxuyacayıq \n",
    "    print(fayl_oxu1)\n",
    "    \n",
    "    file.seek(0) # 0. byte yəni ən başa kursoru apardıq. \n",
    "    fayl_oxu2 = file.read(5) # kursordan sonra 5 byte oxuyacayıq \n",
    "    print(fayl_oxu2)\n",
    "    \n",
    "    "
   ]
  },
  {
   "cell_type": "markdown",
   "id": "2f918f6f",
   "metadata": {},
   "source": [
    "Gördüyünüz kimi fayllarda hər hansı bir yerə gedib istədiyimiz qədər dəyər oxuya bilirik. "
   ]
  }
 ],
 "metadata": {
  "kernelspec": {
   "display_name": "Python 3 (ipykernel)",
   "language": "python",
   "name": "python3"
  },
  "language_info": {
   "codemirror_mode": {
    "name": "ipython",
    "version": 3
   },
   "file_extension": ".py",
   "mimetype": "text/x-python",
   "name": "python",
   "nbconvert_exporter": "python",
   "pygments_lexer": "ipython3",
   "version": "3.8.10"
  }
 },
 "nbformat": 4,
 "nbformat_minor": 5
}
