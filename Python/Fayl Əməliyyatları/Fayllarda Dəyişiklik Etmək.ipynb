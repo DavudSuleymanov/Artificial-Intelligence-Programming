{
 "cells": [
  {
   "cell_type": "markdown",
   "id": "703e4011",
   "metadata": {},
   "source": [
    "# Fayllarda Dəyişiklik Etmək\n",
    "\n",
    "Bu dərsdə biz fayllarda dəyişiklik etməyi öyrənməyə çalışacağıq. Bunun üçün 2 fərqli üsul sınayacayıq."
   ]
  },
  {
   "cell_type": "markdown",
   "id": "750c4e00",
   "metadata": {},
   "source": [
    "### seek() ve write()\n",
    "\n",
    "Əgər seek() funksiyası ilə faylın müəyyən hissəsinə keçib write() funksiyasından istifadə etsək, yazdığımız dəyərlər əvvəlki dəyərlərin üzərinə yazılacaq. Bunun üçün həm oxumaq, həm də yazmaq imkanı verən “r+” açarından istifadə edəcəyik. Əvvəlcə faylımızdakı məlumatlara baxaq."
   ]
  },
  {
   "cell_type": "code",
   "execution_count": 1,
   "id": "0d5be201",
   "metadata": {},
   "outputs": [
    {
     "name": "stdout",
     "output_type": "stream",
     "text": [
      "Davud Suleymanov\n",
      "Elçin Suleymanlı\n",
      "Ayhan Garayev \n",
      "Vaqif Kalantarli \n"
     ]
    }
   ],
   "source": [
    "with open(\"information.txt\",\"r+\",encoding = \"utf-8\") as file:\n",
    "    print(file.read())"
   ]
  },
  {
   "cell_type": "code",
   "execution_count": 2,
   "id": "dfb5f672",
   "metadata": {},
   "outputs": [],
   "source": [
    "with open(\"information.txt\",\"r+\",encoding = \"utf-8\") as file:\n",
    "    file.seek(10)\n",
    "    file.write(\"Yeni İnformasiya\")"
   ]
  },
  {
   "cell_type": "code",
   "execution_count": 3,
   "id": "9c54bd38",
   "metadata": {},
   "outputs": [
    {
     "name": "stdout",
     "output_type": "stream",
     "text": [
      "Davud SuleYeni İnformasiyaleymanlı\n",
      "Ayhan Garayev \n",
      "Vaqif Kalantarli \n"
     ]
    }
   ],
   "source": [
    "with open(\"information.txt\",\"r+\",encoding = \"utf-8\") as file:\n",
    "    print(file.read())"
   ]
  },
  {
   "cell_type": "markdown",
   "id": "795ba2a3",
   "metadata": {},
   "source": [
    "Bir informasiyanın üstünə yeni bir informasiya yazmaq istəyirsinizsə write() funksiyasını bu formada istifadə edə bilərik. "
   ]
  },
  {
   "cell_type": "markdown",
   "id": "0679fcf3",
   "metadata": {},
   "source": [
    "### Fayl Sonunda Dəyişiklik Etmək \n",
    "\n",
    "Faylın sonunda dəyişiklik etmək üçün, faylımızı \"a\" açar sözü ilə açaq və sadəcə faylın sonuna sonuna write() ilə əlavə edək. "
   ]
  },
  {
   "cell_type": "code",
   "execution_count": 11,
   "id": "f805fc20",
   "metadata": {},
   "outputs": [],
   "source": [
    "with open(\"information.txt\",\"a\",encoding = \"utf-8\") as file: \n",
    "    file.write(\"\\nMusa Suleymanov\") # append ilə faylı açdığımız üçün kursor açıldığı anda faylın sonuna gedir və write() funksiyasını istifadə edərək əlavə etmə prosesini tətbiq edirik \n",
    "                                    "
   ]
  },
  {
   "cell_type": "code",
   "execution_count": 12,
   "id": "6f9b98d5",
   "metadata": {},
   "outputs": [
    {
     "name": "stdout",
     "output_type": "stream",
     "text": [
      "Davud Suleymanov\n",
      "Elçin Suleymanlı\n",
      "Ayhan Garayev \n",
      "Vaqif Kalantarli \n",
      "Musa Suleymanov\n"
     ]
    }
   ],
   "source": [
    "with open(\"information.txt\",\"r+\",encoding = \"utf-8\") as file:\n",
    "    print(file.read())"
   ]
  },
  {
   "cell_type": "markdown",
   "id": "c659ba33",
   "metadata": {},
   "source": [
    "### Faylın Başında Dəyişiklik Etmək \n",
    "\n",
    "\"information.txt\" faylımızın əvvəlinə bir sətir əlavə etmək üçün nə edə bilərik? Bunun üçün bütün faylımızı string kimi götürməli və sonra sətiri stringin əvvəlinə əlavə etməliyik. Sonra seek() funksiyası ilə faylın əvvəlinə keçə və birbaşa write() funksiyasından istifadə edə bilərik."
   ]
  },
  {
   "cell_type": "code",
   "execution_count": 13,
   "id": "13eae999",
   "metadata": {},
   "outputs": [
    {
     "name": "stdout",
     "output_type": "stream",
     "text": [
      "Davud Suleymanov\n",
      "Elçin Suleymanlı\n",
      "Ayhan Garayev \n",
      "Vaqif Kalantarli \n",
      "Musa Suleymanov\n"
     ]
    }
   ],
   "source": [
    "with open(\"information.txt\",\"r+\",encoding = \"utf-8\") as file:\n",
    "    fayl_oxu = file.read()\n",
    "    print(fayl_oxu)"
   ]
  },
  {
   "cell_type": "code",
   "execution_count": 16,
   "id": "85e945f6",
   "metadata": {},
   "outputs": [],
   "source": [
    "with open(\"information.txt\",\"r+\",encoding = \"utf-8\") as file:\n",
    "    fayl_oxu = file.read()\n",
    "    fayl_oxu = \"Vuqar Babaşlı\\n\"+ fayl_oxu \n",
    "    file.seek(0)\n",
    "    file.write(fayl_oxu)"
   ]
  },
  {
   "cell_type": "code",
   "execution_count": 17,
   "id": "d16a2385",
   "metadata": {},
   "outputs": [
    {
     "name": "stdout",
     "output_type": "stream",
     "text": [
      "Vuqar Babaşlı\n",
      "Davud Suleymanov\n",
      "Elçin Suleymanlı\n",
      "Ayhan Garayev \n",
      "Vaqif Kalantarli \n",
      "Musa Suleymanov\n"
     ]
    }
   ],
   "source": [
    "with open(\"information.txt\",\"r+\",encoding = \"utf-8\") as file:\n",
    "    fayl_oxu = file.read()\n",
    "    print(fayl_oxu)"
   ]
  },
  {
   "cell_type": "markdown",
   "id": "8fff1c15",
   "metadata": {},
   "source": [
    "### Faylın Orta Hissəsinin Dəyişdirilməsi\n",
    "\n",
    "Faylların ortasına hər hansı bir sətir əlavə etmək üçün əvvəlcə hər bir sətri list kimi əldə etməyə imkan verən **readlines()** funksiyasından istifadə edəcəyik. Sonra bu list-in istənilən indeksinə element əlavə edəcəyik və bu list **for** loop-u ilə fayla yazacağıq."
   ]
  },
  {
   "cell_type": "code",
   "execution_count": 18,
   "id": "7dcbd939",
   "metadata": {},
   "outputs": [
    {
     "name": "stdout",
     "output_type": "stream",
     "text": [
      "['Vuqar Babaşlı\\n', 'Davud Suleymanov\\n', 'Elçin Suleymanlı\\n', 'Ayhan Garayev \\n', 'Vaqif Kalantarli \\n', 'Musa Suleymanov']\n"
     ]
    }
   ],
   "source": [
    "with open(\"information.txt\",\"r+\",encoding = \"utf-8\") as file:\n",
    "    print(file.readlines())"
   ]
  },
  {
   "cell_type": "markdown",
   "id": "09257f10",
   "metadata": {},
   "source": [
    "Məsələn, __\"Elçin Suleymanlı\"__ sətrinin altına daha bir sətir əlavə etmək istəyirik. Bunun üçün insert() method-u ilə bu list-in **3-cü indeksinə sətir əlavə edəcəyik. Sonra faylın əvvəlinə keçib bu siyahını bir-bir for döngüsü (loop-u )ilə yazacağıq.**"
   ]
  },
  {
   "cell_type": "code",
   "execution_count": 22,
   "id": "3cff6986",
   "metadata": {},
   "outputs": [],
   "source": [
    "with open(\"information.txt\",\"r+\",encoding = \"utf-8\") as file:\n",
    "    siyahi= file.readlines()\n",
    "    siyahi.insert(3,\"Vasif Hacıyev\\n\")\n",
    "    file.seek(0)\n",
    "    for i in siyahi: \n",
    "        file.write(i)"
   ]
  },
  {
   "cell_type": "code",
   "execution_count": 23,
   "id": "0a245fe5",
   "metadata": {},
   "outputs": [
    {
     "name": "stdout",
     "output_type": "stream",
     "text": [
      "Vuqar Babaşlı\n",
      "Davud Suleymanov\n",
      "Elçin Suleymanlı\n",
      "Vasif Hacıyev\n",
      "Ayhan Garayev \n",
      "Vaqif Kalantarli \n",
      "Musa Suleymanov\n"
     ]
    }
   ],
   "source": [
    "with open(\"information.txt\",\"r+\",encoding = \"utf-8\") as file:\n",
    "    fayl_oxu = file.read()\n",
    "    print(fayl_oxu)"
   ]
  },
  {
   "cell_type": "markdown",
   "id": "f74a5052",
   "metadata": {},
   "source": [
    "**for** döngüsündən başqa, list-dəki dəyərləri Python-da fayla yazmaq üçün praktik funksiya var. **writelines** funksiyası verdiyimiz listi fayla yazacaq."
   ]
  },
  {
   "cell_type": "code",
   "execution_count": 25,
   "id": "d5a6c6cd",
   "metadata": {},
   "outputs": [],
   "source": [
    "with open(\"information.txt\",\"r+\",encoding = \"utf-8\") as file:\n",
    "    siyahi= file.readlines()\n",
    "    siyahi.insert(3,\"Şahin İbrahimov\\n\")\n",
    "    file.seek(0)\n",
    "    file.writelines(siyahi)"
   ]
  },
  {
   "cell_type": "code",
   "execution_count": 26,
   "id": "8d0bfd55",
   "metadata": {},
   "outputs": [
    {
     "name": "stdout",
     "output_type": "stream",
     "text": [
      "Vuqar Babaşlı\n",
      "Davud Suleymanov\n",
      "Elçin Suleymanlı\n",
      "Şahin İbrahimov\n",
      "Vasif Hacıyev\n",
      "Ayhan Garayev \n",
      "Vaqif Kalantarli \n",
      "Musa Suleymanov\n"
     ]
    }
   ],
   "source": [
    "with open(\"information.txt\",\"r+\",encoding = \"utf-8\") as file:\n",
    "    fayl_oxu = file.read()\n",
    "    print(fayl_oxu)"
   ]
  }
 ],
 "metadata": {
  "kernelspec": {
   "display_name": "Python 3 (ipykernel)",
   "language": "python",
   "name": "python3"
  },
  "language_info": {
   "codemirror_mode": {
    "name": "ipython",
    "version": 3
   },
   "file_extension": ".py",
   "mimetype": "text/x-python",
   "name": "python",
   "nbconvert_exporter": "python",
   "pygments_lexer": "ipython3",
   "version": "3.8.10"
  }
 },
 "nbformat": 4,
 "nbformat_minor": 5
}
