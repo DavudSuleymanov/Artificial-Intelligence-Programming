{
 "cells": [
  {
   "cell_type": "markdown",
   "id": "4468a2ef",
   "metadata": {},
   "source": [
    "# Obyekt Yönümlü Proqramlama - Miras (Inheritance)"
   ]
  },
  {
   "cell_type": "markdown",
   "id": "11a2df43",
   "metadata": {},
   "source": [
    "Bu mövzuda biz Obyekt yönümlü Proqramlaşdırmada Miras vəya varislik (Inheritance) anlayışını öyrənməyə çalışacağıq. Inheritance, bir class-ın başqa bir class-dan xassələri və method-ları miras almasıdır.\n",
    "\n",
    "Bu anlayışı biz öz valideynlərimizdən fərqli xüsusiyyətləri və davranışları miras almağımıza bənzədə bilərik.\n",
    "\n",
    "Bəs miras bizim üçün harada işləyir? Məsələn, biz bir şirkətin işçilərinin informasiyalarını saxlamaq üçün class-lar yaradırıq. Bunun üçün Menecer, Layihə Direktoru, İşçi kimi ayrı-ayrı class-lar yaratmalıyıq. Əslində, baxdığımız zaman bu class-ların hamısının müəyyən ortaq xassələri vardır. Bu ümumi xassələri və methodları bu class-lar daxilində təkrar-təkrar müəyyən etmək əvəzinə, bir əsas class təyin edə bilərik və bu class-lar təyin etmiş olduğunuz bu əsas class-ın xüsusiyyətlərini və üsullarını alsınlar. Bu, Mirasın əsas məntiqidir.\n",
    "\n",
    "İstəyirsinizsə, miras strukturunu qurmaq üçün əvvəlcə bir işçi class-ı yaradaq."
   ]
  },
  {
   "cell_type": "code",
   "execution_count": 5,
   "id": "3626091b",
   "metadata": {},
   "outputs": [],
   "source": [
    "class isciler():\n",
    "    \n",
    "    def __init__(self,ad,soyad,no,maas):\n",
    "        \n",
    "        print(\"İşçilər class-ının init funksiyası..\")\n",
    "        \n",
    "        self.ad=ad\n",
    "        self.soyad=soyad\n",
    "        self.no=no\n",
    "        self.maas=maas\n",
    "        \n",
    "        \n",
    "    def informasiya_goster(self):\n",
    "        print(\"\"\"\n",
    "              İşci informasiyaları\n",
    "              \n",
    "              Ad:{}\n",
    "              Soyad:{}\n",
    "              No:{}\n",
    "              Maas:{}\n",
    "              \"\"\".format(self.ad,self.soyad,self.no,self.maas,))"
   ]
  },
  {
   "cell_type": "markdown",
   "id": "3ce88984",
   "metadata": {},
   "source": [
    "Biz İşçi class-ını yaratdıq, indi bu İşçi class-ından Direktor class-ını əldə etməyə çalışaq."
   ]
  },
  {
   "cell_type": "code",
   "execution_count": 6,
   "id": "2a59553a",
   "metadata": {},
   "outputs": [],
   "source": [
    "class direktorlar(isciler): # isciler class-ından bur formada miras alırıq.\n",
    "    pass # Pass ifadəsi blokun daxilində yeni informasiyaları daha sonra müəyyən etmək istədiyimiz zaman istifadə olunur."
   ]
  },
  {
   "cell_type": "markdown",
   "id": "cae41818",
   "metadata": {},
   "source": [
    "Burada **direktorlar** class-ında heç nə müəyyən etmədik, lakin biz **isciler** class-ından bütün xassələri və metodları miras aldıq. Burada **isciler** class-ının  metodlarından istifadə edə biləcəyimizi görək."
   ]
  },
  {
   "cell_type": "code",
   "execution_count": 7,
   "id": "930b69a8",
   "metadata": {},
   "outputs": [
    {
     "name": "stdout",
     "output_type": "stream",
     "text": [
      "İşçilər class-ının init funksiyası..\n"
     ]
    }
   ],
   "source": [
    "direktor1= direktorlar(\"Davud\",\"Suleymanov\",17014908,500,) "
   ]
  },
  {
   "cell_type": "code",
   "execution_count": 9,
   "id": "9de81833",
   "metadata": {},
   "outputs": [
    {
     "name": "stdout",
     "output_type": "stream",
     "text": [
      "\n",
      "              İşci informasiyaları\n",
      "              \n",
      "              Ad:Davud\n",
      "              Soyad:Suleymanov\n",
      "              No:17014908\n",
      "              Maas:500\n",
      "              \n"
     ]
    }
   ],
   "source": [
    "direktor1.informasiya_goster()"
   ]
  },
  {
   "cell_type": "markdown",
   "id": "e590e4f8",
   "metadata": {},
   "source": [
    "Burada gördüyünüz kimi, biz **isciler** class-ından miras qaldığımız üçün bütün xassələrdən və metodlardan istifadə edə bilərik. Biz bunu dir() funksiyası ilə də görə bilərik."
   ]
  },
  {
   "cell_type": "code",
   "execution_count": 10,
   "id": "8700147f",
   "metadata": {},
   "outputs": [
    {
     "data": {
      "text/plain": [
       "['__class__',\n",
       " '__delattr__',\n",
       " '__dict__',\n",
       " '__dir__',\n",
       " '__doc__',\n",
       " '__eq__',\n",
       " '__format__',\n",
       " '__ge__',\n",
       " '__getattribute__',\n",
       " '__gt__',\n",
       " '__hash__',\n",
       " '__init__',\n",
       " '__init_subclass__',\n",
       " '__le__',\n",
       " '__lt__',\n",
       " '__module__',\n",
       " '__ne__',\n",
       " '__new__',\n",
       " '__reduce__',\n",
       " '__reduce_ex__',\n",
       " '__repr__',\n",
       " '__setattr__',\n",
       " '__sizeof__',\n",
       " '__str__',\n",
       " '__subclasshook__',\n",
       " '__weakref__',\n",
       " 'ad',\n",
       " 'informasiya_goster',\n",
       " 'maas',\n",
       " 'no',\n",
       " 'soyad']"
      ]
     },
     "execution_count": 10,
     "metadata": {},
     "output_type": "execute_result"
    }
   ],
   "source": [
    "dir(direktor1)"
   ]
  },
  {
   "cell_type": "markdown",
   "id": "5a5f134c",
   "metadata": {},
   "source": [
    "Bəs, **direktorlar** class-ına əlavə funksiyalar və xüsusiyyətlər əlavə edə bilərikmi? Nümunə olaraq maas_artir adlı metodu əlavə edək."
   ]
  },
  {
   "cell_type": "code",
   "execution_count": 11,
   "id": "efb45c6c",
   "metadata": {},
   "outputs": [],
   "source": [
    "class direktorlar(isciler):\n",
    "    \n",
    "    def maas_artir(self,zam_miqdari):\n",
    "        \n",
    "        print(\"Maaş artırıldı\")\n",
    "        \n",
    "        self.maas += zam_miqdari"
   ]
  },
  {
   "cell_type": "code",
   "execution_count": 12,
   "id": "12f3a0e8",
   "metadata": {},
   "outputs": [
    {
     "name": "stdout",
     "output_type": "stream",
     "text": [
      "İşçilər class-ının init funksiyası..\n"
     ]
    }
   ],
   "source": [
    "direktor1= direktorlar(\"Davud\",\"Suleymanov\",17014908,500,) "
   ]
  },
  {
   "cell_type": "code",
   "execution_count": 13,
   "id": "8e15195f",
   "metadata": {},
   "outputs": [
    {
     "name": "stdout",
     "output_type": "stream",
     "text": [
      "\n",
      "              İşci informasiyaları\n",
      "              \n",
      "              Ad:Davud\n",
      "              Soyad:Suleymanov\n",
      "              No:17014908\n",
      "              Maas:500\n",
      "              \n"
     ]
    }
   ],
   "source": [
    "direktor1.informasiya_goster()"
   ]
  },
  {
   "cell_type": "code",
   "execution_count": 14,
   "id": "fb110ff4",
   "metadata": {},
   "outputs": [
    {
     "name": "stdout",
     "output_type": "stream",
     "text": [
      "Maaş artırıldı\n"
     ]
    }
   ],
   "source": [
    "direktor1.maas_artir(500)"
   ]
  },
  {
   "cell_type": "code",
   "execution_count": 15,
   "id": "fef69de2",
   "metadata": {},
   "outputs": [
    {
     "name": "stdout",
     "output_type": "stream",
     "text": [
      "\n",
      "              İşci informasiyaları\n",
      "              \n",
      "              Ad:Davud\n",
      "              Soyad:Suleymanov\n",
      "              No:17014908\n",
      "              Maas:1000\n",
      "              \n"
     ]
    }
   ],
   "source": [
    "direktor1.informasiya_goster()"
   ]
  },
  {
   "cell_type": "markdown",
   "id": "28ede5bd",
   "metadata": {},
   "source": [
    "Beləliklə bir class-dan miras alaraq yaratdığımız class-lara əlavə metodlar və xüsusiyyətlər əlavə edə biləcəyimizi də gördük."
   ]
  },
  {
   "cell_type": "markdown",
   "id": "5c54e08c",
   "metadata": {},
   "source": [
    "# Overriding (Ləğv etmək)\n",
    "\n",
    "Əgər biz öz class-ımıza miras qalmış metodları eyni adla yenidən təyin etsək, miras aldığımız metodu deyil, metodu çağırdığımız zaman öz metodumuz işləyəcək. Bu, Obyekt yönümlü proqramlaşdırmada metodu ləğv etmək adlanır.\n",
    "\n",
    "Məsələn, biz indi isciler class-ının init metodundan istifadə etmək əvəzinə, direktorlar class-ında init metodunu override edə bilərik. "
   ]
  },
  {
   "cell_type": "code",
   "execution_count": 16,
   "id": "031f225d",
   "metadata": {},
   "outputs": [],
   "source": [
    "class isciler():\n",
    "    \n",
    "    def __init__(self,ad,soyad,no,maas):\n",
    "        \n",
    "        print(\"İşçilər class-ının init funksiyası..\")\n",
    "        \n",
    "        self.ad=ad\n",
    "        self.soyad=soyad\n",
    "        self.no=no\n",
    "        self.maas=maas\n",
    "        \n",
    "        \n",
    "    def informasiya_goster(self):\n",
    "        print(\"\"\"\n",
    "              İşci informasiyaları\n",
    "              \n",
    "              Ad:{}\n",
    "              Soyad:{}\n",
    "              No:{}\n",
    "              Maas:{}\n",
    "              \"\"\".format(self.ad,self.soyad,self.no,self.maas,))"
   ]
  },
  {
   "cell_type": "code",
   "execution_count": 17,
   "id": "5a0e984b",
   "metadata": {},
   "outputs": [],
   "source": [
    "class direktorlar(isciler):\n",
    "    \n",
    "    def __init__(self,ad,soyad,no,maas,insan_sayi): #direktorlar class-ının daxilində yeni bir __init__ methodu yazdığımızdan isciler class-ından miras aldığımız __init__ funksiyası override etmiş olduq\n",
    "        \n",
    "        print(\"Direktorlar class-ının init funksiyası..\")\n",
    "        \n",
    "        self.ad=ad\n",
    "        self.soyad=soyad\n",
    "        self.no=no\n",
    "        self.maas=maas\n",
    "        self.insan_sayi=insan_sayi\n",
    "        \n",
    "        self.insan_sayi= insan_sayi\n",
    "    \n",
    "    def maas_artir(self,zam_miqdari):\n",
    "        \n",
    "        print(\"Maaş artırıldı\")\n",
    "        \n",
    "        self.maas += zam_miqdari"
   ]
  },
  {
   "cell_type": "code",
   "execution_count": 19,
   "id": "e1b2cbf0",
   "metadata": {},
   "outputs": [
    {
     "name": "stdout",
     "output_type": "stream",
     "text": [
      "Direktorlar class-ının init funksiyası..\n"
     ]
    }
   ],
   "source": [
    "direktor1= direktorlar(\"Davud\",\"Suleymanov\",17014908,500,5) "
   ]
  },
  {
   "cell_type": "markdown",
   "id": "b2acb3ac",
   "metadata": {},
   "source": [
    "İndi də informasiya_goster methodunu da override edək. "
   ]
  },
  {
   "cell_type": "code",
   "execution_count": 20,
   "id": "9eb57033",
   "metadata": {},
   "outputs": [],
   "source": [
    "class direktorlar(isciler):\n",
    "    \n",
    "    def __init__(self,ad,soyad,no,maas,insan_sayi): #direktorlar class-ının daxilində yeni bir __init__ methodu yazdığımızdan isciler class-ından miras aldığımız __init__ funksiyası override etmiş olduq\n",
    "        \n",
    "        print(\"Direktorlar class-ının init funksiyası..\")\n",
    "        \n",
    "        self.ad=ad\n",
    "        self.soyad=soyad\n",
    "        self.no=no\n",
    "        self.maas=maas\n",
    "        self.insan_sayi=insan_sayi\n",
    "        \n",
    "    def informasiya_goster(self):\n",
    "        print(\"\"\"\n",
    "              Direktor informasiyaları\n",
    "              \n",
    "              Ad:{}\n",
    "              Soyad:{}\n",
    "              No:{}\n",
    "              Maas:{}\n",
    "              \"\"\".format(self.ad,self.soyad,self.no,self.maas,))\n",
    "    \n",
    "    def maas_artir(self,zam_miqdari):\n",
    "        \n",
    "        print(\"Maaş artırıldı\")\n",
    "        \n",
    "        self.maas += zam_miqdari"
   ]
  },
  {
   "cell_type": "code",
   "execution_count": 21,
   "id": "b7f68764",
   "metadata": {},
   "outputs": [
    {
     "name": "stdout",
     "output_type": "stream",
     "text": [
      "Direktorlar class-ının init funksiyası..\n"
     ]
    }
   ],
   "source": [
    "direktor1= direktorlar(\"Davud\",\"Suleymanov\",17014908,500,5) "
   ]
  },
  {
   "cell_type": "code",
   "execution_count": 23,
   "id": "cc458c25",
   "metadata": {},
   "outputs": [
    {
     "name": "stdout",
     "output_type": "stream",
     "text": [
      "\n",
      "              Direktor informasiyaları\n",
      "              \n",
      "              Ad:Davud\n",
      "              Soyad:Suleymanov\n",
      "              No:17014908\n",
      "              Maas:500\n",
      "              \n"
     ]
    }
   ],
   "source": [
    "direktor1.informasiya_goster() # Yeni yazdığımız method çağrıldı. "
   ]
  },
  {
   "cell_type": "markdown",
   "id": "8c24dc18",
   "metadata": {},
   "source": [
    "# Super Açar Sözü "
   ]
  },
  {
   "cell_type": "markdown",
   "id": "4c9d233d",
   "metadata": {},
   "source": [
    "Super açar sözü, xüsusən də üst ün tutduğumuz metod daxilində miras aldığımız bir metoddan istifadə etmək istəsək istifadə edilə bilər. Başqa sözlə, super bizə alt siniflərdən miras aldığımız sinfin metodlarından ən ümumi mənada istifadə etməyə imkan verir. Bir misal vasitəsilə anlamağa çalışaq."
   ]
  },
  {
   "cell_type": "code",
   "execution_count": 24,
   "id": "bef9eebe",
   "metadata": {},
   "outputs": [],
   "source": [
    "class isciler():\n",
    "    \n",
    "    def __init__(self,ad,soyad,no,maas):\n",
    "        \n",
    "        print(\"İşçilər class-ının init funksiyası..\")\n",
    "        \n",
    "        self.ad=ad\n",
    "        self.soyad=soyad\n",
    "        self.no=no\n",
    "        self.maas=maas\n",
    "        \n",
    "        \n",
    "    def informasiya_goster(self):\n",
    "        print(\"\"\"\n",
    "              İşci informasiyaları\n",
    "              \n",
    "              Ad:{}\n",
    "              Soyad:{}\n",
    "              No:{}\n",
    "              Maas:{}\n",
    "              \"\"\".format(self.ad,self.soyad,self.no,self.maas,))"
   ]
  },
  {
   "cell_type": "code",
   "execution_count": null,
   "id": "90f21c27",
   "metadata": {},
   "outputs": [],
   "source": [
    "class direktorlar(isciler):\n",
    "    \n",
    "    def __init__(self,ad,soyad,no,maas,insan_sayi): #isci class-ından fərqli olaraq mesul olduğu insanların sayını gösteren bir paremtr daha əlavə etdik \n",
    "        \n",
    "        super.__init__(ad,soyad,no,maas) \n",
    "        \n",
    "        # super açar sözünü istifadə edərək 4 eded xassəni isciler class-ından miras aldıq \n",
    "        \n",
    "        self.insan_sayi= insan_sayi # insan sayı paremtrini de bu formada elave etdik \n",
    "        \n",
    "    \n",
    "    \n",
    "    def informasiya_goster(self):\n",
    "        print(\"\"\"\n",
    "              Direktor informasiyaları\n",
    "              \n",
    "              Ad:{}\n",
    "              Soyad:{}\n",
    "              No:{}\n",
    "              Maas:{}\n",
    "              \"\"\".format(self.ad,self.soyad,self.no,self.maas,))\n",
    "    \n",
    "    def maas_artir(self,zam_miqdari):\n",
    "        \n",
    "        print(\"Maaş artırıldı\")\n",
    "        \n",
    "        self.maas += zam_miqdari"
   ]
  },
  {
   "cell_type": "markdown",
   "id": "a1b97941",
   "metadata": {},
   "source": [
    "Burada biz **super().__init__** deyərək **isciler** class-ından yalnızca istədiyimiz xassələri istifadə etdik. Əslində direktorlar class-ında **init** funksiyasını yenidən yazaraq iscilər class-ından miras almış olduğumuz **init** funksiyasını override (ləğv etmiş) etmiş olduq lakin **super** açar sözünü istifadə edərək override etmiş olduğumuz və işlətmək istədiyimiz xassələri yenidən çağırdıq."
   ]
  }
 ],
 "metadata": {
  "kernelspec": {
   "display_name": "Python 3 (ipykernel)",
   "language": "python",
   "name": "python3"
  },
  "language_info": {
   "codemirror_mode": {
    "name": "ipython",
    "version": 3
   },
   "file_extension": ".py",
   "mimetype": "text/x-python",
   "name": "python",
   "nbconvert_exporter": "python",
   "pygments_lexer": "ipython3",
   "version": "3.8.10"
  }
 },
 "nbformat": 4,
 "nbformat_minor": 5
}
