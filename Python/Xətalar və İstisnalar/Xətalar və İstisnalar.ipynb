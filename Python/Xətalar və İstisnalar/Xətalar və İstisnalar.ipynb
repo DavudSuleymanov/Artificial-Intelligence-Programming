{
 "cells": [
  {
   "cell_type": "markdown",
   "id": "2ae68e4d",
   "metadata": {},
   "source": [
    "# Xətalar və İstisnalar\n",
    "\n",
    "Bu dərsdə Python proqramlaşdırma dilində baş verə biləcək müəyyən xəta və ya istisnaların nə mənaya gəldiyini və necə həll olunacağını öyrənməyə çalışacağıq.\n",
    "\n",
    "\n",
    "### Xətalar\n",
    "\n",
    "Python proqramlarında bəzən müəyyən edilməyən dəyişəndən istifadə etməyə çalışmaq, bəzən də yerinə yetirilməsi mümkün olmayan arifmetik əməliyyatı yerinə yetirmək Python-da **xətalara** səbəb olur. Lakin bu müstəsna hallarda proqramlarımızı xətaların növündən asılı olaraq daha etibarlı şəkildə yaza bilərik. Python proqramlarında qarşınıza çıxa biləcək bəzi xətaların nümunələri bunlardır;"
   ]
  },
  {
   "cell_type": "code",
   "execution_count": 1,
   "id": "6f6dd1c4",
   "metadata": {},
   "outputs": [
    {
     "ename": "NameError",
     "evalue": "name 'a' is not defined",
     "output_type": "error",
     "traceback": [
      "\u001b[1;31m---------------------------------------------------------------------------\u001b[0m",
      "\u001b[1;31mNameError\u001b[0m                                 Traceback (most recent call last)",
      "Cell \u001b[1;32mIn [1], line 1\u001b[0m\n\u001b[1;32m----> 1\u001b[0m \u001b[38;5;28mprint\u001b[39m(\u001b[43ma\u001b[49m)\n",
      "\u001b[1;31mNameError\u001b[0m: name 'a' is not defined"
     ]
    }
   ],
   "source": [
    "print(a)  # Müəyyən edilməmiş dəyişkən(variable)- NameError xətası "
   ]
  },
  {
   "cell_type": "code",
   "execution_count": 2,
   "id": "b1b307b6",
   "metadata": {},
   "outputs": [
    {
     "ename": "ValueError",
     "evalue": "invalid literal for int() with base 10: 'sdas324234'",
     "output_type": "error",
     "traceback": [
      "\u001b[1;31m---------------------------------------------------------------------------\u001b[0m",
      "\u001b[1;31mValueError\u001b[0m                                Traceback (most recent call last)",
      "Cell \u001b[1;32mIn [2], line 1\u001b[0m\n\u001b[1;32m----> 1\u001b[0m \u001b[38;5;28;43mint\u001b[39;49m\u001b[43m(\u001b[49m\u001b[38;5;124;43m\"\u001b[39;49m\u001b[38;5;124;43msdas324234\u001b[39;49m\u001b[38;5;124;43m\"\u001b[39;49m\u001b[43m)\u001b[49m\n",
      "\u001b[1;31mValueError\u001b[0m: invalid literal for int() with base 10: 'sdas324234'"
     ]
    }
   ],
   "source": [
    "int(\"sdas324234\") # ValueError xətası (int bir dəyişənin daxilində hərf və ya str bir dəyər olabilməz)"
   ]
  },
  {
   "cell_type": "code",
   "execution_count": 3,
   "id": "e4953236",
   "metadata": {},
   "outputs": [
    {
     "ename": "ZeroDivisionError",
     "evalue": "division by zero",
     "output_type": "error",
     "traceback": [
      "\u001b[1;31m---------------------------------------------------------------------------\u001b[0m",
      "\u001b[1;31mZeroDivisionError\u001b[0m                         Traceback (most recent call last)",
      "Cell \u001b[1;32mIn [3], line 1\u001b[0m\n\u001b[1;32m----> 1\u001b[0m \u001b[38;5;241;43m4\u001b[39;49m\u001b[38;5;241;43m/\u001b[39;49m\u001b[38;5;241;43m0\u001b[39;49m\n",
      "\u001b[1;31mZeroDivisionError\u001b[0m: division by zero"
     ]
    }
   ],
   "source": [
    "4/0 # Ədədi 0-a bölmək olmaz."
   ]
  },
  {
   "cell_type": "code",
   "execution_count": 4,
   "id": "fc586483",
   "metadata": {},
   "outputs": [
    {
     "ename": "SyntaxError",
     "evalue": "invalid syntax (2491408504.py, line 1)",
     "output_type": "error",
     "traceback": [
      "\u001b[1;36m  Cell \u001b[1;32mIn [4], line 1\u001b[1;36m\u001b[0m\n\u001b[1;33m    print(\"Davud\"abhbcdhb)\u001b[0m\n\u001b[1;37m                 ^\u001b[0m\n\u001b[1;31mSyntaxError\u001b[0m\u001b[1;31m:\u001b[0m invalid syntax\n"
     ]
    }
   ],
   "source": [
    "print(\"Davud\"abhbcdhb) # Syntax xətası"
   ]
  },
  {
   "cell_type": "markdown",
   "id": "4c58c535",
   "metadata": {},
   "source": [
    "Bunun kimi, Python-da yüzlərlə xəta var. Amma onların heç birini əzbərləməyə ehtiyacımız yoxdur. Kodumuzun vəziyyətinə görə, artıq xətaları çıxış olaraq görə bilirik. Ancaq hələ də onların nə olduğunu görmək istəyirsinizsə, Python-un rəsmi saytına baxa bilərsiniz.\n",
    "\n",
    "https://docs.python.org/3/library/exceptions.html\n"
   ]
  }
 ],
 "metadata": {
  "kernelspec": {
   "display_name": "Python 3 (ipykernel)",
   "language": "python",
   "name": "python3"
  },
  "language_info": {
   "codemirror_mode": {
    "name": "ipython",
    "version": 3
   },
   "file_extension": ".py",
   "mimetype": "text/x-python",
   "name": "python",
   "nbconvert_exporter": "python",
   "pygments_lexer": "ipython3",
   "version": "3.8.10"
  }
 },
 "nbformat": 4,
 "nbformat_minor": 5
}
