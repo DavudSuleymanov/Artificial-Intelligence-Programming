{
 "cells": [
  {
   "cell_type": "markdown",
   "id": "8f2515aa",
   "metadata": {},
   "source": [
    "# Xəta Tutmaq - try,except,finally\n",
    "\n",
    "Bu mövzuda proqramlarımızda xəta verə biləcək kodları təyin edip tuta biləcəyimiz **try,except,finally** strukturlarına və funksiyalarla xətalarımı istədiyimiz kimi necə ifadə edə biləcəyimizi öyrənəcəyik.\n",
    "\n",
    "### try,except strukturları\n",
    "\n",
    "try,except strukturlarının quruluşu bu formadadır: \n",
    "\n",
    "        try: \n",
    "\n",
    "         Xətaya səbəb ola biləcək kodlar burada yazılır.\n",
    "\n",
    "         Xəta baş verərsə, proqram müvafiq except blokuna daxil olacaq.\n",
    "\n",
    "         Xəta baş verərsə, try blokunun xətadan sonra gələn hissəsi işləməyəcək.\n",
    "\n",
    "        except Xəta1:\n",
    "         Xəta1 baş verdikdə bu blok işləyəcək.\n",
    " \n",
    "        except Xəta1:\n",
    "         Xəta2 baş verdikdə bu blok işləyəcək.\n",
    "         \n",
    "Bu quruluşu nümunələrlə daha detallı anlamağa çalışaq. "
   ]
  },
  {
   "cell_type": "markdown",
   "id": "41d1bd3b",
   "metadata": {},
   "source": [
    "#### Nümunə 1"
   ]
  },
  {
   "cell_type": "code",
   "execution_count": 1,
   "id": "627922a4",
   "metadata": {},
   "outputs": [
    {
     "ename": "ValueError",
     "evalue": "invalid literal for int() with base 10: '2345adss'",
     "output_type": "error",
     "traceback": [
      "\u001b[1;31m---------------------------------------------------------------------------\u001b[0m",
      "\u001b[1;31mValueError\u001b[0m                                Traceback (most recent call last)",
      "Cell \u001b[1;32mIn [1], line 1\u001b[0m\n\u001b[1;32m----> 1\u001b[0m a\u001b[38;5;241m=\u001b[39m \u001b[38;5;28;43mint\u001b[39;49m\u001b[43m(\u001b[49m\u001b[38;5;124;43m\"\u001b[39;49m\u001b[38;5;124;43m2345adss\u001b[39;49m\u001b[38;5;124;43m\"\u001b[39;49m\u001b[43m)\u001b[49m\n",
      "\u001b[1;31mValueError\u001b[0m: invalid literal for int() with base 10: '2345adss'"
     ]
    }
   ],
   "source": [
    "a= int(\"2345adss\") # Bura ValueError xətası verəcək"
   ]
  },
  {
   "cell_type": "code",
   "execution_count": 2,
   "id": "619c8633",
   "metadata": {},
   "outputs": [
    {
     "name": "stdout",
     "output_type": "stream",
     "text": [
      "Xəta!\n",
      "Proqram bitdi..\n"
     ]
    }
   ],
   "source": [
    "try: \n",
    "    a= int(\"2345adss\")  # Bura ValueError xətası verəcək\n",
    "except:\n",
    "    print(\"Xəta!\") # Əgər xətanı qeyd etməsək, bütün xətalar bu bloka daxil olacaq.\n",
    "    \n",
    "print(\"Proqram bitdi..\")"
   ]
  },
  {
   "cell_type": "markdown",
   "id": "2c37dfa9",
   "metadata": {},
   "source": [
    "Burada **a = int(\"324234sadsad\")** kodu problem yaratdığından proqram bu blokdan çıxdı və birbaşa except blokuna daxil oldu və \"Xəta!\" yazdı. "
   ]
  },
  {
   "cell_type": "code",
   "execution_count": 3,
   "id": "ac1f80c6",
   "metadata": {},
   "outputs": [
    {
     "name": "stdout",
     "output_type": "stream",
     "text": [
      "Xəta!\n",
      "Proqram bitdi..\n"
     ]
    }
   ],
   "source": [
    "try: \n",
    "    a= int(\"2345adss\")  # Bura ValueError xətası verəcək\n",
    "except ValueError:\n",
    "    print(\"Xəta!\") # Əgər xətanı qeyd etməsək, bütün xətalar bu bloka daxil olacaq.\n",
    "    \n",
    "print(\"Proqram bitdi..\")"
   ]
  },
  {
   "cell_type": "markdown",
   "id": "40fc4c18",
   "metadata": {},
   "source": [
    "#### Nümunə 2"
   ]
  },
  {
   "cell_type": "markdown",
   "id": "a2d24f55",
   "metadata": {},
   "source": [
    "İndi də 2 ədəd xəta verəcək kodumuz olsun. Birincisi ZeroDivisionError, digəri isə ValueError xətası olsun."
   ]
  },
  {
   "cell_type": "code",
   "execution_count": 5,
   "id": "3fbf5529",
   "metadata": {},
   "outputs": [
    {
     "ename": "ValueError",
     "evalue": "invalid literal for int() with base 10: '32434aaa'",
     "output_type": "error",
     "traceback": [
      "\u001b[1;31m---------------------------------------------------------------------------\u001b[0m",
      "\u001b[1;31mValueError\u001b[0m                                Traceback (most recent call last)",
      "Cell \u001b[1;32mIn [5], line 1\u001b[0m\n\u001b[1;32m----> 1\u001b[0m a \u001b[38;5;241m=\u001b[39m \u001b[38;5;28;43mint\u001b[39;49m\u001b[43m(\u001b[49m\u001b[38;5;124;43m\"\u001b[39;49m\u001b[38;5;124;43m32434aaa\u001b[39;49m\u001b[38;5;124;43m\"\u001b[39;49m\u001b[43m)\u001b[49m\n",
      "\u001b[1;31mValueError\u001b[0m: invalid literal for int() with base 10: '32434aaa'"
     ]
    }
   ],
   "source": [
    "a = int(\"32434aaa\")"
   ]
  },
  {
   "cell_type": "code",
   "execution_count": 6,
   "id": "39e04d98",
   "metadata": {},
   "outputs": [
    {
     "ename": "ZeroDivisionError",
     "evalue": "division by zero",
     "output_type": "error",
     "traceback": [
      "\u001b[1;31m---------------------------------------------------------------------------\u001b[0m",
      "\u001b[1;31mZeroDivisionError\u001b[0m                         Traceback (most recent call last)",
      "Cell \u001b[1;32mIn [6], line 1\u001b[0m\n\u001b[1;32m----> 1\u001b[0m \u001b[38;5;28mprint\u001b[39m(\u001b[38;5;241;43m2\u001b[39;49m\u001b[43m \u001b[49m\u001b[38;5;241;43m/\u001b[39;49m\u001b[43m \u001b[49m\u001b[38;5;241;43m0\u001b[39;49m)\n",
      "\u001b[1;31mZeroDivisionError\u001b[0m: division by zero"
     ]
    }
   ],
   "source": [
    "print(2 / 0)"
   ]
  },
  {
   "cell_type": "markdown",
   "id": "3e89a360",
   "metadata": {},
   "source": [
    "**try və except** istifadə edərək xətaları tutmağa çalışaq."
   ]
  },
  {
   "cell_type": "code",
   "execution_count": 8,
   "id": "47549020",
   "metadata": {},
   "outputs": [
    {
     "name": "stdout",
     "output_type": "stream",
     "text": [
      "Ədəd1:12\n",
      "Ədəd2:12asd\n",
      "Zəhmət olmasa inputları doğru daxil ediniz.\n"
     ]
    }
   ],
   "source": [
    "try:\n",
    "    a = int(input(\"Ədəd1:\"))\n",
    "    b = int(input(\"Ədəd2:\")) \n",
    "    print(a / b)\n",
    "except ValueError:\n",
    "    print(\"Zəhmət olmasa inputları doğru daxil ediniz.\")\n",
    "except ZeroDivisionError:\n",
    "    print(\"Bir ədəd 0'a bölünə bilməz.\")"
   ]
  },
  {
   "cell_type": "code",
   "execution_count": 9,
   "id": "5424d707",
   "metadata": {},
   "outputs": [
    {
     "name": "stdout",
     "output_type": "stream",
     "text": [
      "Ədəd1:15\n",
      "Ədəd2:0\n",
      "Bir ədəd 0'a bölünə bilməz.\n"
     ]
    }
   ],
   "source": [
    "try:\n",
    "    a = int(input(\"Ədəd1:\"))\n",
    "    b = int(input(\"Ədəd2:\")) \n",
    "    print(a / b)\n",
    "except ValueError:\n",
    "    print(\"Zəhmət olmasa inputları doğru daxil ediniz.\")\n",
    "except ZeroDivisionError:\n",
    "    print(\"Bir ədəd 0'a bölünə bilməz.\")"
   ]
  },
  {
   "cell_type": "code",
   "execution_count": 10,
   "id": "41cef3e7",
   "metadata": {},
   "outputs": [
    {
     "name": "stdout",
     "output_type": "stream",
     "text": [
      "Ədəd1:0\n",
      "Ədəd2:15\n",
      "0.0\n"
     ]
    }
   ],
   "source": [
    "try:\n",
    "    a = int(input(\"Ədəd1:\"))\n",
    "    b = int(input(\"Ədəd2:\")) \n",
    "    print(a / b)\n",
    "except ValueError:\n",
    "    print(\"Zəhmət olmasa inputları doğru daxil ediniz.\")\n",
    "except ZeroDivisionError:\n",
    "    print(\"Bir ədəd 0'a bölünə bilməz.\")"
   ]
  },
  {
   "cell_type": "markdown",
   "id": "24a12e93",
   "metadata": {},
   "source": [
    "Bu 2 xətanı eyni except blokuna daxil edə bilərik."
   ]
  },
  {
   "cell_type": "code",
   "execution_count": 11,
   "id": "dabbf723",
   "metadata": {},
   "outputs": [
    {
     "name": "stdout",
     "output_type": "stream",
     "text": [
      "Ədəd1:12\n",
      "Ədəd2:0\n",
      "ZeroDivision və ya ValueError xətası\n"
     ]
    }
   ],
   "source": [
    "try:\n",
    "    a = int(input(\"Ədəd1:\"))\n",
    "    b = int(input(\"Ədəd2:\")) \n",
    "    print(a / b)\n",
    "except (ValueError,ZeroDivisionError):\n",
    "    print(\"ZeroDivision və ya ValueError xətası\")\n"
   ]
  },
  {
   "cell_type": "markdown",
   "id": "f6b3e51f",
   "metadata": {},
   "source": [
    "### try,except və finally strukturları"
   ]
  },
  {
   "cell_type": "markdown",
   "id": "8984d8fc",
   "metadata": {},
   "source": [
    "Bəzən proqramlarımızda xəta aldığımız halde belə çalışmasını istədiyimiz kodlar ola bilir. Bunun üçün try,except bloklarına əlavə olaraq bir ədəd finally bloku əlavə etməmiz lazımdır. finally blokları xəta olduğu və olmadığı zaman da çalışacaqdır. \n",
    "\n",
    "try,except,finally bloklarının birgə quruluşu bu formadadır:\n",
    "\n",
    "        try: \n",
    "\n",
    "          Xətaya səbəb ola biləcək kodlar burada yazılır.\n",
    "\n",
    "          Xəta baş verərsə, proqram müvafiq except blokuna daxil olacaq.\n",
    "\n",
    "          Xəta baş verərsə, try blokunun xətadan sonra gələn hissəsi işləməyəcək.\n",
    "\n",
    "        except Xəta1:\n",
    "          Xəta1 baş verdikdə bu blok işləyəcək.\n",
    " \n",
    "        except Xəta1:\n",
    "          Xəta2 baş verdikdə bu blok işləyəcək.\n",
    "         \n",
    "        finally\n",
    "          Mütləq çalışması lazım olan kod bura yazılmalıdır.\n",
    "          Bu blok xəta olduğu və olmadığı halda da çalışacaqdır.\n",
    "          \n",
    "Bir nümunə ilə anlamağa çalışaq."
   ]
  },
  {
   "cell_type": "code",
   "execution_count": 12,
   "id": "a21002d3",
   "metadata": {},
   "outputs": [
    {
     "name": "stdout",
     "output_type": "stream",
     "text": [
      "Ədəd1:12\n",
      "Ədəd2:3\n",
      "4.0\n",
      "Hər zaman çalışacaqdır.\n"
     ]
    }
   ],
   "source": [
    "try:\n",
    "    a = int(input(\"Ədəd1:\"))\n",
    "    b = int(input(\"Ədəd2:\")) \n",
    "    print(a / b)\n",
    "except ValueError:\n",
    "    print(\"Zəhmət olmasa inputları doğru daxil ediniz.\")\n",
    "except ZeroDivisionError:\n",
    "    print(\"Bir ədəd 0'a bölünə bilməz.\")\n",
    "finally:\n",
    "    print(\"Hər zaman çalışacaqdır.\")"
   ]
  },
  {
   "cell_type": "code",
   "execution_count": 13,
   "id": "043691b5",
   "metadata": {},
   "outputs": [
    {
     "name": "stdout",
     "output_type": "stream",
     "text": [
      "Ədəd1:12asda\n",
      "Zəhmət olmasa inputları doğru daxil ediniz.\n",
      "Hər zaman çalışacaqdır.\n"
     ]
    }
   ],
   "source": [
    "try:\n",
    "    a = int(input(\"Ədəd1:\"))\n",
    "    b = int(input(\"Ədəd2:\")) \n",
    "    print(a / b)\n",
    "except ValueError:\n",
    "    print(\"Zəhmət olmasa inputları doğru daxil ediniz.\")\n",
    "except ZeroDivisionError:\n",
    "    print(\"Bir ədəd 0'a bölünə bilməz.\")\n",
    "finally:\n",
    "    print(\"Hər zaman çalışacaqdır.\")"
   ]
  },
  {
   "cell_type": "markdown",
   "id": "28e06a63",
   "metadata": {},
   "source": [
    "### Raise"
   ]
  },
  {
   "cell_type": "markdown",
   "id": "ab4eb425",
   "metadata": {},
   "source": [
    "Pythonda **raise** blokunu istifadə edərək normalda standart olan xətaları və ya xəta mesajlarını öz istəyimizə görə dəyişdirə bilərik. Bunun tam olaraq nə mənaya gəldiyini nümunələrlə birlikdə anlamağa çalışaq.\n",
    "\n",
    "              raise blokunun istifadə qaydası bu formadadır:\n",
    "              \n",
    "                            raise XətaAdı(xəta mesajı)"
   ]
  },
  {
   "cell_type": "code",
   "execution_count": 14,
   "id": "3bd84f03",
   "metadata": {},
   "outputs": [],
   "source": [
    "# Verilən sring ters çeviren funksiya\n",
    "\n",
    "def terscevir(s):\n",
    "    \n",
    "    if (type(s)!=str):\n",
    "        raise ValueError(\"Zəhmət olmasa doğru input daxil edin..\")\n",
    "    else:\n",
    "        return s[::-1]"
   ]
  },
  {
   "cell_type": "code",
   "execution_count": 15,
   "id": "44c20673",
   "metadata": {},
   "outputs": [
    {
     "name": "stdout",
     "output_type": "stream",
     "text": [
      "vonamyeluSduvaD\n"
     ]
    }
   ],
   "source": [
    "print(terscevir(\"DavudSuleymanov\")) # Xəta verməyəcəkdir"
   ]
  },
  {
   "cell_type": "code",
   "execution_count": 17,
   "id": "b16c11cf",
   "metadata": {},
   "outputs": [
    {
     "ename": "ValueError",
     "evalue": "Zəhmət olmasa doğru input daxil edin..",
     "output_type": "error",
     "traceback": [
      "\u001b[1;31m---------------------------------------------------------------------------\u001b[0m",
      "\u001b[1;31mValueError\u001b[0m                                Traceback (most recent call last)",
      "Cell \u001b[1;32mIn [17], line 1\u001b[0m\n\u001b[1;32m----> 1\u001b[0m \u001b[38;5;28mprint\u001b[39m(\u001b[43mterscevir\u001b[49m\u001b[43m(\u001b[49m\u001b[38;5;241;43m12\u001b[39;49m\u001b[43m)\u001b[49m)\n",
      "Cell \u001b[1;32mIn [14], line 6\u001b[0m, in \u001b[0;36mterscevir\u001b[1;34m(s)\u001b[0m\n\u001b[0;32m      3\u001b[0m \u001b[38;5;28;01mdef\u001b[39;00m \u001b[38;5;21mterscevir\u001b[39m(s):\n\u001b[0;32m      5\u001b[0m     \u001b[38;5;28;01mif\u001b[39;00m (\u001b[38;5;28mtype\u001b[39m(s)\u001b[38;5;241m!=\u001b[39m\u001b[38;5;28mstr\u001b[39m):\n\u001b[1;32m----> 6\u001b[0m         \u001b[38;5;28;01mraise\u001b[39;00m \u001b[38;5;167;01mValueError\u001b[39;00m(\u001b[38;5;124m\"\u001b[39m\u001b[38;5;124mZəhmət olmasa doğru input daxil edin..\u001b[39m\u001b[38;5;124m\"\u001b[39m)\n\u001b[0;32m      7\u001b[0m     \u001b[38;5;28;01melse\u001b[39;00m:\n\u001b[0;32m      8\u001b[0m         \u001b[38;5;28;01mreturn\u001b[39;00m s[::\u001b[38;5;241m-\u001b[39m\u001b[38;5;241m1\u001b[39m]\n",
      "\u001b[1;31mValueError\u001b[0m: Zəhmət olmasa doğru input daxil edin.."
     ]
    }
   ],
   "source": [
    "print(terscevir(12))"
   ]
  },
  {
   "cell_type": "markdown",
   "id": "3ab74479",
   "metadata": {},
   "source": [
    "Gördüyünüz kimi ValueError-un qarşısında öz yazmış olduğumuz xəta mesajı vardır. "
   ]
  }
 ],
 "metadata": {
  "kernelspec": {
   "display_name": "Python 3 (ipykernel)",
   "language": "python",
   "name": "python3"
  },
  "language_info": {
   "codemirror_mode": {
    "name": "ipython",
    "version": 3
   },
   "file_extension": ".py",
   "mimetype": "text/x-python",
   "name": "python",
   "nbconvert_exporter": "python",
   "pygments_lexer": "ipython3",
   "version": "3.8.10"
  }
 },
 "nbformat": 4,
 "nbformat_minor": 5
}
