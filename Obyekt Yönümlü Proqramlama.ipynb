{
 "cells": [
  {
   "cell_type": "markdown",
   "id": "2a00e3ab",
   "metadata": {},
   "source": [
    "# Obyekt Yönümlü Proqramlama Məntiqi\n",
    "\n",
    "Bu mövzu ilə biz Obyekt yönümlü proqramlaşdırmanı təqdim edirik və bu mövzuda Obyekt yönümlü proqramlaşdırma haqqında bir az danışacağıq. Obyekt yönümlü proqramlaşdırmanı ən sadə mənada real həyatı proqramlaşdırmaya uyğunlaşdırmaq kimi düşünmək olar. Məsələn, biz tələbə avtomatlaşdırma sistemini yazmaq istəyirik. Bunun üçün müəllimləri, tələbələri, kursları obyekt kimi yaratmalıyıq. Belə bir sistemi proqramlı şəkildə həyata keçirmək üçün əslində hər bir obyektin strukturunu müəyyən etməli və sonra bu strukturlardan obyektlər hazırlamalıyıq. Obyekt yönümlü proqramlaşdırma ən sadə mənada belədir. İndi obyektin nə olduğunu anlamağa çalışaq.\n",
    "\n",
    "## Obyekt nədir?\n",
    "\n",
    "Ətrafımıza baxanda görürük ki, hər bir şey əslində bir obyektdir. Məsələn, televizorun pultunu nəzərdən keçirək. Bu uzaqdan idarəedicinin özünün müxtəlif xüsusiyyətləri (atribute) və funksiyaları (methods) var. Məsələn, pultun markası və düymələri əslində bu pultun xüsusiyyətləridir. Pultun qırmızı düyməsini basdıqda televizor sönür və səssiz düyməsini basdıqda televizorun səsi söndürülür bunlar isə pultun funksiyalarıdır . Eynilə, Python-da hər şey bir obyektdir. Pythonda her bir data tipi və funksiyalar bir obyektdir. Bu obyektlərin özüne xas xüsusiyyətləri ve funksiyaları vardır. Məsələn, List data tipində olan bir obyektin xüsiyyetlerinə ve funksiyalarına birlikdə baxaq. "
   ]
  },
  {
   "cell_type": "code",
   "execution_count": 4,
   "id": "45457f53",
   "metadata": {},
   "outputs": [],
   "source": [
    "siyahi1 = [1,2,3,4,5] #List data tipine aid \"siyahi1\" adlı bir obyekt əmələ gətirdik\n",
    " "
   ]
  },
  {
   "cell_type": "code",
   "execution_count": 5,
   "id": "9dcf765f",
   "metadata": {},
   "outputs": [
    {
     "name": "stdout",
     "output_type": "stream",
     "text": [
      "[1, 2, 3, 4, 5, 6]\n"
     ]
    }
   ],
   "source": [
    "siyahi1.append(6)\n",
    "\n",
    "print(siyahi1)\n",
    "\n",
    "# List data tipine aid olan obyektin append (elave etme) funksiyasını istifade ederek son indeksine 6 reqemini elave etmiş olduq\n",
    "\"\"\" Nəticə olaraq List data tipinin xüsusiyyetlerini daşıyan \"siyahi1\" adında bir obyekt əmələ gətirdik və bir funskiyasını \n",
    "(append) istifadə etmiş olduq \"\"\""
   ]
  },
  {
   "cell_type": "markdown",
   "id": "90ab2c26",
   "metadata": {},
   "source": [
    "# Obyekt yönümlü proqramlaşdırma - Classes\n",
    "\n",
    "Artıq öz data tiplərimizi və obyektlərimizi istehsal etməyə başlayacağıq.\n",
    "\n",
    "Öz data tiplərimizi istehsal etmək və bu yeni data tiplərindən obyektlər yaratmaq üçün əvvəlcə obyektləri yaradacağımız strukturu müəyyən etməliyik. Biz strukturu Class (Sinif)olaraq adlandırırıq. Class strukturları nədir öyrənməklə başlayaq.\n",
    "\n",
    "### Class Açar Sözü\n",
    "\n",
    "Classlar, obyektlərimizi istehsal edərkən obyektlərin xüsusiyyətlərini və üsullarını təyin etdiyimiz və hər bir obyekti buna uyğun olaraq istehsal etdiyimiz strukturlardır. \"Avtomobil\" adlı birinci class-ımızı təyin etməklə və strukturumuzu qurmaqla başlayaq."
   ]
  },
  {
   "cell_type": "code",
   "execution_count": 7,
   "id": "bc5a1c2b",
   "metadata": {},
   "outputs": [],
   "source": [
    "# Avtomobil adlı yeni bir data tipi yaratmaqla başlayaq.\n",
    "class Avtomobil():\n",
    "    \n",
    "    model =  \"BMW F10\"\n",
    "    reng =  \"Gümüşü\"            # Class-ımızın artıq 4 xüsusiyyəti vardır (attributes)\n",
    "    at_gücü = 110\n",
    "    silindir_sayi = 4"
   ]
  },
  {
   "cell_type": "markdown",
   "id": "0676b09c",
   "metadata": {},
   "source": [
    "İlk Class-ımızı Python-da təyin etdik. Bəs bu Class-a aid obyekti necə yarada bilərik? Biz bunu belə edə bilərik.\n",
    "\n",
    "------------------------------------------------- ------------------------ ---------------------------------- --------------------------------- ---------------------- --\n",
    "\n",
    "      obyekt_adı = Class_Adı (parametrlər (istəyə bağlı))\n",
    "------------------------------------------------- ------------------------ ---------------------------------- --------------------------------- ---------------------- --"
   ]
  },
  {
   "cell_type": "code",
   "execution_count": 8,
   "id": "210862d5",
   "metadata": {},
   "outputs": [],
   "source": [
    "avtomobil1= Avtomobil() ## Avtomobil data tipindən (class-ından) \"avtomobil1\" adlı obyekt istehsal edildi"
   ]
  },
  {
   "cell_type": "code",
   "execution_count": 9,
   "id": "1250465a",
   "metadata": {},
   "outputs": [
    {
     "data": {
      "text/plain": [
       "__main__.Avtomobil"
      ]
     },
     "execution_count": 9,
     "metadata": {},
     "output_type": "execute_result"
    }
   ],
   "source": [
    "type(avtomobil1) # obyektimizin data tipini (class-ını) öyrəndik "
   ]
  },
  {
   "cell_type": "markdown",
   "id": "efb43736",
   "metadata": {},
   "source": [
    "**avtomobil1** obyekti indi class-da müəyyən etdiyimiz bütün xüsusiyyətlərə (atributlara) malikdir. Class-ların və obyektlərin istehsal edilməsi belə baş verir. Bəs biz bu avtomobil1 obyektinin xüsusiyyətlərini necə görə bilərik?\n",
    "\n",
    "**--------------------------------------------------------------------------------------------------------------------------**\n",
    "\n",
    "            obyekt_adı.xüsiyyət_adı\n",
    "**--------------------------------------------------------------------------------------------------------------------------**"
   ]
  },
  {
   "cell_type": "code",
   "execution_count": 10,
   "id": "17ea34d2",
   "metadata": {},
   "outputs": [
    {
     "data": {
      "text/plain": [
       "'BMW F10'"
      ]
     },
     "execution_count": 10,
     "metadata": {},
     "output_type": "execute_result"
    }
   ],
   "source": [
    "avtomobil1.model"
   ]
  },
  {
   "cell_type": "code",
   "execution_count": 11,
   "id": "cc8153cc",
   "metadata": {},
   "outputs": [
    {
     "data": {
      "text/plain": [
       "'Gümüşü'"
      ]
     },
     "execution_count": 11,
     "metadata": {},
     "output_type": "execute_result"
    }
   ],
   "source": [
    "avtomobil1.reng"
   ]
  },
  {
   "cell_type": "code",
   "execution_count": 12,
   "id": "9c518367",
   "metadata": {},
   "outputs": [
    {
     "data": {
      "text/plain": [
       "4"
      ]
     },
     "execution_count": 12,
     "metadata": {},
     "output_type": "execute_result"
    }
   ],
   "source": [
    "avtomobil1.silindir_sayi"
   ]
  },
  {
   "cell_type": "code",
   "execution_count": 13,
   "id": "81223a55",
   "metadata": {},
   "outputs": [
    {
     "data": {
      "text/plain": [
       "110"
      ]
     },
     "execution_count": 13,
     "metadata": {},
     "output_type": "execute_result"
    }
   ],
   "source": [
    "avtomobil1.at_gücü"
   ]
  },
  {
   "cell_type": "markdown",
   "id": "ef642c97",
   "metadata": {},
   "source": [
    "İndi başqa bir Avtomobil obyekti istehsal edək"
   ]
  },
  {
   "cell_type": "code",
   "execution_count": 14,
   "id": "c136724f",
   "metadata": {},
   "outputs": [],
   "source": [
    "avtomobil2= Avtomobil()"
   ]
  },
  {
   "cell_type": "code",
   "execution_count": 15,
   "id": "ca7371ee",
   "metadata": {},
   "outputs": [
    {
     "data": {
      "text/plain": [
       "'BMW F10'"
      ]
     },
     "execution_count": 15,
     "metadata": {},
     "output_type": "execute_result"
    }
   ],
   "source": [
    "avtomobil2.model"
   ]
  },
  {
   "cell_type": "code",
   "execution_count": 16,
   "id": "609dce33",
   "metadata": {},
   "outputs": [
    {
     "data": {
      "text/plain": [
       "'Gümüşü'"
      ]
     },
     "execution_count": 16,
     "metadata": {},
     "output_type": "execute_result"
    }
   ],
   "source": [
    "avtomobil2.reng"
   ]
  },
  {
   "cell_type": "code",
   "execution_count": 17,
   "id": "9cf419a8",
   "metadata": {},
   "outputs": [
    {
     "data": {
      "text/plain": [
       "110"
      ]
     },
     "execution_count": 17,
     "metadata": {},
     "output_type": "execute_result"
    }
   ],
   "source": [
    "avtomobil2.at_gücü"
   ]
  },
  {
   "cell_type": "code",
   "execution_count": 18,
   "id": "100da667",
   "metadata": {},
   "outputs": [
    {
     "data": {
      "text/plain": [
       "4"
      ]
     },
     "execution_count": 18,
     "metadata": {},
     "output_type": "execute_result"
    }
   ],
   "source": [
    "avtomobil2.silindir_sayi"
   ]
  },
  {
   "cell_type": "markdown",
   "id": "9e7cf306",
   "metadata": {},
   "source": [
    "Burada gördüyümüz kimi yaratdığımız **obyektlərin** modeli, rəngi və s. xassələri **eynidir**. Çünki burada müəyyən etdiyimiz xüsusiyyətlər əslində class-ın xüsusiyyətləridir. Beləliklə, bir obyekt yaratdıqda, bu xüsusiyyətlərin dəyərləri standart olaraq gəlir. Heç bir obyekt yaratmadan bu class-ların xassələrinə daxil ola bilərik. Biz bunu bu şəkildə edə bilərik."
   ]
  },
  {
   "cell_type": "code",
   "execution_count": 19,
   "id": "34a601ae",
   "metadata": {},
   "outputs": [
    {
     "data": {
      "text/plain": [
       "'Gümüşü'"
      ]
     },
     "execution_count": 19,
     "metadata": {},
     "output_type": "execute_result"
    }
   ],
   "source": [
    "Avtomobil.reng # Class_Adı.xüsusiyyət_adı"
   ]
  },
  {
   "cell_type": "code",
   "execution_count": 20,
   "id": "e96ace07",
   "metadata": {},
   "outputs": [
    {
     "data": {
      "text/plain": [
       "'BMW F10'"
      ]
     },
     "execution_count": 20,
     "metadata": {},
     "output_type": "execute_result"
    }
   ],
   "source": [
    "Avtomobil.model"
   ]
  },
  {
   "cell_type": "markdown",
   "id": "7889cc86",
   "metadata": {},
   "source": [
    "Başlanğıcda hər bir obyekti fərqli dəyərlərlə yaratmağımız üçün hər bir obyekti yaratarkən obyektlərin dəyərlərini göndərməliyik. Bunun üçün xüsusi üsuldan istifadə etməliyik.\n",
    "------------------------------------------------- ------------------------ ---------------------------------- --------------------------------- ---------------------- -- **init()** --------------------------------- ---------------------- ------------------------------------------ -------- ------------------------------------------------- ------ -\n",
    "\n",
    "Bəs bu funksiya nə mənaya gəlir? İstəyirsinizsə, əvvəlcə dir() funksiyasının köməyi ilə **avtomobil1** obyektimizdə hansı xüsusiyyətlər olduğuna baxaq."
   ]
  },
  {
   "cell_type": "code",
   "execution_count": 22,
   "id": "e4d8cdb0",
   "metadata": {},
   "outputs": [
    {
     "data": {
      "text/plain": [
       "['__class__',\n",
       " '__delattr__',\n",
       " '__dict__',\n",
       " '__dir__',\n",
       " '__doc__',\n",
       " '__eq__',\n",
       " '__format__',\n",
       " '__ge__',\n",
       " '__getattribute__',\n",
       " '__gt__',\n",
       " '__hash__',\n",
       " '__init__',\n",
       " '__init_subclass__',\n",
       " '__le__',\n",
       " '__lt__',\n",
       " '__module__',\n",
       " '__ne__',\n",
       " '__new__',\n",
       " '__reduce__',\n",
       " '__reduce_ex__',\n",
       " '__repr__',\n",
       " '__setattr__',\n",
       " '__sizeof__',\n",
       " '__str__',\n",
       " '__subclasshook__',\n",
       " '__weakref__',\n",
       " 'at_gücü',\n",
       " 'model',\n",
       " 'reng',\n",
       " 'silindir_sayi']"
      ]
     },
     "execution_count": 22,
     "metadata": {},
     "output_type": "execute_result"
    }
   ],
   "source": [
    "dir(avtomobil1)"
   ]
  },
  {
   "cell_type": "markdown",
   "id": "eb135130",
   "metadata": {},
   "source": [
    "Burada obyektimizin bütün xüsusiyyətlərini və funksiyalarını(method-larını) görürük. Lakin biz heç bir funksiya(method) müəyyən etməmişik. Buradakı method-lar obyekt yaradılan zaman Python tərəfindən xüsusi olaraq təyin olunan metodlardır və biz onları konkret olaraq təyin etməsək, Python özü onları standart olaraq təyin edir. Burada __init__ metodunu da görürük. Bu metodu özümüz müəyyən etsək, obyektlərimizi fərqli dəyərlərlə istehsal edə bilərik.\n",
    "\n",
    "Əslində, __init__ method-u Python-da konstruktor funksiyası kimi müəyyən edilir. Bu method obyektlərimizi yaratarkən avtomatik olaraq çağırılan ilk funksiyadır. Bu method-u konkret olaraq təyin etməklə biz obyektlərimizi müxtəlif dəyərlərlə yarada bilərik.\n",
    "\n",
    "Bəs bu method-u necə müəyyənləşdirə bilərik? Birbaşa nümunə ilə görməyə çalışaq."
   ]
  },
  {
   "cell_type": "code",
   "execution_count": null,
   "id": "5548fbf6",
   "metadata": {},
   "outputs": [],
   "source": [
    "# Avtomobil Data Tipi \n",
    "\n",
    "class Avtomobil():\n",
    "    # Hələlik Class xassələrinə ehtiyacımız yoxdur.\n",
    "    \n",
    "    def __init__(self):\n",
    "        print(\"init funksiyası çağrıldı.\")"
   ]
  },
  {
   "cell_type": "markdown",
   "id": "a91576d4",
   "metadata": {},
   "source": [
    "Bəs burada **self** nə deməkdir? **Self** açar sözü obyekti yaratdığımız zaman ona işarə edən istinaddır və başlanğıcda metodlarımızda mövcud olmalı olan parametrdir. Başqa sözlə desək, biz bu istinad vasitəsilə obyektin bütün xassələrindən və metodlarından istifadə edə bilərik.\n",
    "\n",
    "Obyektlər yaradıldıqca, Python bu istinadı (yəni self açar sözünü) avtomatik olaraq metodların özünə göndərir. Xüsusi olaraq paremetrləri yazdığımız zaman **self** üçün dəyər göndərməmizə ehtiyac yoxdur.\n",
    "\n",
    "__init__ method-unu və **self** açar sözünü daha yaxşı başa düşmək üçün obyektlərimizə xassələr əlavə edək."
   ]
  },
  {
   "cell_type": "code",
   "execution_count": 28,
   "id": "a4af151f",
   "metadata": {},
   "outputs": [],
   "source": [
    "\n",
    "class Avtomobil (): \n",
    "    \n",
    "    def __init__(self,model,reng,at_gucu,silindir_sayi): ## Obyektlərimizi yaratarkən parametrlərimizin dəyərlərini göndərəcəyik.\n",
    "        \n",
    "        self.model= model # self.xüsiyyət_adı = paremtr dəyəri formasında model xassəmizin dəyərini təyin edirik\n",
    "        self.reng = reng # self.xüsiyyət_adı = paremtr dəyəri formasında reng xassəmizin dəyərini təyin edirik# self.xüsiyyət_adı = paremtr dəyəri formasında model xassəmizin dəyərini təyin edirik# self.xüsiyyət_adı = paremtr dəyəri formasında model xassəmizin dəyərini təyin edirik\n",
    "        self.at_gucu= at_gucu # self.xüsiyyət_adı = paremtr dəyəri formasında at_gucu xassəmizin dəyərini təyin edirik# self.xüsiyyət_adı = paremtr dəyəri formasında model xassəmizin dəyərini təyin edirik\n",
    "        self.silindir_sayi = silindir_sayi # self.xüsiyyət_adı = paremtr dəyəri formasında silidir_sayi xassəmizin dəyərini təyin edirik\n",
    "        "
   ]
  },
  {
   "cell_type": "code",
   "execution_count": 29,
   "id": "0910b7c5",
   "metadata": {},
   "outputs": [],
   "source": [
    "# avtomobil1 obyektimizi yenidən yaradaq\n",
    "#artıq dəyərləri göndərərək obyektlərin xüsusiyyətlərini (xassələrini) istədiyimiz dəyərlərlə başlada bilərik\n",
    "\n",
    "avtomobil1= Avtomobil(\"Mercedes C180\",\"Ağ\",156,4)"
   ]
  },
  {
   "cell_type": "code",
   "execution_count": 30,
   "id": "e4fa0d44",
   "metadata": {},
   "outputs": [],
   "source": [
    "# avtomobil2 obyektimizi yenidən yaradaq\n",
    "avtomobil2= Avtomobil(\"Audi A5\",\"Qara\",178,4)"
   ]
  },
  {
   "cell_type": "code",
   "execution_count": 31,
   "id": "5253f51f",
   "metadata": {},
   "outputs": [
    {
     "data": {
      "text/plain": [
       "'Mercedes C180'"
      ]
     },
     "execution_count": 31,
     "metadata": {},
     "output_type": "execute_result"
    }
   ],
   "source": [
    "avtomobil1.model"
   ]
  },
  {
   "cell_type": "code",
   "execution_count": 32,
   "id": "dd11c2b6",
   "metadata": {},
   "outputs": [
    {
     "data": {
      "text/plain": [
       "'Audi A5'"
      ]
     },
     "execution_count": 32,
     "metadata": {},
     "output_type": "execute_result"
    }
   ],
   "source": [
    "avtomobil2.model"
   ]
  },
  {
   "cell_type": "code",
   "execution_count": 34,
   "id": "37cfa805",
   "metadata": {},
   "outputs": [
    {
     "data": {
      "text/plain": [
       "'Ağ'"
      ]
     },
     "execution_count": 34,
     "metadata": {},
     "output_type": "execute_result"
    }
   ],
   "source": [
    "avtomobil1.reng"
   ]
  },
  {
   "cell_type": "code",
   "execution_count": 35,
   "id": "4005caa5",
   "metadata": {},
   "outputs": [
    {
     "data": {
      "text/plain": [
       "4"
      ]
     },
     "execution_count": 35,
     "metadata": {},
     "output_type": "execute_result"
    }
   ],
   "source": [
    "avtomobil2.silindir_sayi"
   ]
  },
  {
   "cell_type": "markdown",
   "id": "c02c3a2a",
   "metadata": {},
   "source": [
    "**Beləliklə eyni Class-a aid lakin fərqli dəyərlərə sahib 2 ədəd obyekt istehsal etmiş olduq.**"
   ]
  },
  {
   "cell_type": "markdown",
   "id": "902de8fc",
   "metadata": {},
   "source": [
    "**İstəsək init metodunu default(sabit) dəyərlərlə də yaza bilərik.**"
   ]
  },
  {
   "cell_type": "code",
   "execution_count": 36,
   "id": "3b583376",
   "metadata": {},
   "outputs": [],
   "source": [
    "class Avtomobil (): \n",
    "    \n",
    "    def __init__(self,model=\"İnformasiya Yoxdur\",reng=\"İnformasiya Yoxdur\",at_gucu=\"İnformasiya Yoxdur\",silindir_sayi=\"İnformasiya Yoxdur\"): \n",
    "        \n",
    "        self.model= model \n",
    "        self.reng = reng\n",
    "        self.at_gucu= at_gucu\n",
    "        self.silindir_sayi = silindir_sayi "
   ]
  },
  {
   "cell_type": "code",
   "execution_count": 37,
   "id": "204465ce",
   "metadata": {},
   "outputs": [],
   "source": [
    "avtomobil3= Avtomobil(at_gucu=150,silindir_sayi=4)"
   ]
  },
  {
   "cell_type": "code",
   "execution_count": 38,
   "id": "6e50cf1d",
   "metadata": {},
   "outputs": [
    {
     "data": {
      "text/plain": [
       "4"
      ]
     },
     "execution_count": 38,
     "metadata": {},
     "output_type": "execute_result"
    }
   ],
   "source": [
    "avtomobil3.silindir_sayi"
   ]
  },
  {
   "cell_type": "code",
   "execution_count": 39,
   "id": "4d5446e2",
   "metadata": {},
   "outputs": [
    {
     "data": {
      "text/plain": [
       "'İnformasiya Yoxdur'"
      ]
     },
     "execution_count": 39,
     "metadata": {},
     "output_type": "execute_result"
    }
   ],
   "source": [
    "avtomobil3.model # Parametrləri daxil edərkən model dəyərini daxil etmədik və beləliklə class daxilindəki default dəyəri istifadə edəlmiş oldu "
   ]
  },
  {
   "cell_type": "code",
   "execution_count": 40,
   "id": "47b38320",
   "metadata": {},
   "outputs": [
    {
     "data": {
      "text/plain": [
       "150"
      ]
     },
     "execution_count": 40,
     "metadata": {},
     "output_type": "execute_result"
    }
   ],
   "source": [
    "avtomobil3.at_gucu"
   ]
  },
  {
   "cell_type": "code",
   "execution_count": 41,
   "id": "a96900ce",
   "metadata": {},
   "outputs": [
    {
     "data": {
      "text/plain": [
       "'İnformasiya Yoxdur'"
      ]
     },
     "execution_count": 41,
     "metadata": {},
     "output_type": "execute_result"
    }
   ],
   "source": [
    "avtomobil3.reng"
   ]
  },
  {
   "cell_type": "markdown",
   "id": "137c4ddd",
   "metadata": {},
   "source": [
    "Burada gördüyümüz kimi init metohodunu (funksiyasını) özümüz yazmaqla fərqli dəyərlərə malik obyekt yarada bilirik. "
   ]
  }
 ],
 "metadata": {
  "kernelspec": {
   "display_name": "Python 3 (ipykernel)",
   "language": "python",
   "name": "python3"
  },
  "language_info": {
   "codemirror_mode": {
    "name": "ipython",
    "version": 3
   },
   "file_extension": ".py",
   "mimetype": "text/x-python",
   "name": "python",
   "nbconvert_exporter": "python",
   "pygments_lexer": "ipython3",
   "version": "3.8.10"
  }
 },
 "nbformat": 4,
 "nbformat_minor": 5
}
